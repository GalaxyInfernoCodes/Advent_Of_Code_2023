{
 "cells": [
  {
   "cell_type": "code",
   "execution_count": 1,
   "metadata": {},
   "outputs": [],
   "source": [
    "with open('example.txt', 'r') as f:\n",
    "    lines = f.readlines()\n",
    "    calibration_strings = [entry.strip() for entry in lines]"
   ]
  },
  {
   "cell_type": "code",
   "execution_count": 2,
   "metadata": {},
   "outputs": [
    {
     "data": {
      "text/plain": [
       "['1abc2', 'pqr3stu8vwx', 'a1b2c3d4e5f', 'treb7uchet']"
      ]
     },
     "execution_count": 2,
     "metadata": {},
     "output_type": "execute_result"
    }
   ],
   "source": [
    "calibration_strings"
   ]
  },
  {
   "cell_type": "code",
   "execution_count": 68,
   "metadata": {},
   "outputs": [],
   "source": [
    "def get_digits(calibration_str: str) -> int:\n",
    "    first_digit = None\n",
    "    last_digit = None\n",
    "    for character in calibration_str:\n",
    "        if character.isdigit():\n",
    "            if first_digit is None:\n",
    "                first_digit = int(character)\n",
    "            last_digit = int(character)\n",
    "    return first_digit * 10 + last_digit"
   ]
  },
  {
   "cell_type": "code",
   "execution_count": 69,
   "metadata": {},
   "outputs": [],
   "source": [
    "def solve_part1(input_file: str) -> int:\n",
    "    with open(input_file, 'r') as f:\n",
    "        lines = f.readlines()\n",
    "        calibration_strings = [entry.strip() for entry in lines]\n",
    "        return sum([get_digits(calibration_str) for calibration_str in calibration_strings])"
   ]
  },
  {
   "cell_type": "code",
   "execution_count": 70,
   "metadata": {},
   "outputs": [
    {
     "data": {
      "text/plain": [
       "142"
      ]
     },
     "execution_count": 70,
     "metadata": {},
     "output_type": "execute_result"
    }
   ],
   "source": [
    "solve_part1('example.txt')"
   ]
  },
  {
   "cell_type": "markdown",
   "metadata": {},
   "source": [
    "## Part 2"
   ]
  },
  {
   "cell_type": "markdown",
   "metadata": {},
   "source": [
    "First version, but this doesn't solve the problem, that letters can be reused for two words (\"eightwo\" = 8 2, even though there is only one \"t\")"
   ]
  },
  {
   "cell_type": "code",
   "execution_count": 72,
   "metadata": {},
   "outputs": [],
   "source": [
    "# def replace_digit_words(calibration_str: str) -> str:\n",
    "#     character_map = {\"one\": 1, \"two\": 2, \"three\": 3, \"four\": 4, \"five\": 5, \"six\": 6, \"seven\": 7, \"eight\": 8, \"nine\": 9, \"zero\": 0}\n",
    "#     for digit_word, digit_value in character_map.items():\n",
    "#         calibration_str = calibration_str.replace(digit_word, str(digit_value))\n",
    "#     return calibration_str"
   ]
  },
  {
   "cell_type": "markdown",
   "metadata": {},
   "source": [
    "2nd version (don't replace the whole word, just replace the first letter, so it doesn't affect the following words, kind of ugly, but we later extract only the letters anyways soooo yeah)"
   ]
  },
  {
   "cell_type": "code",
   "execution_count": 83,
   "metadata": {},
   "outputs": [],
   "source": [
    "def replace_digit_words(calibration_str: str) -> str:\n",
    "    character_map = {\"one\": 1, \"two\": 2, \"three\": 3, \"four\": 4, \"five\": 5, \"six\": 6, \"seven\": 7, \"eight\": 8, \"nine\": 9}\n",
    "    extracted_string = list(calibration_str)\n",
    "    # loop through the string:\n",
    "    for str_index in range(len(calibration_str)):\n",
    "        for digit_word, digit_value in character_map.items():\n",
    "            if calibration_str[str_index:].startswith(digit_word):\n",
    "                extracted_string[str_index] = str(digit_value)\n",
    "    return \"\".join(extracted_string)"
   ]
  },
  {
   "cell_type": "code",
   "execution_count": 84,
   "metadata": {},
   "outputs": [
    {
     "data": {
      "text/plain": [
       "['two1nine',\n",
       " 'eightwothree',\n",
       " 'abcone2threexyz',\n",
       " 'xtwone3four',\n",
       " '4nineeightseven2',\n",
       " 'zoneight234',\n",
       " '7pqrstsixteen']"
      ]
     },
     "execution_count": 84,
     "metadata": {},
     "output_type": "execute_result"
    }
   ],
   "source": [
    "with open('example2.txt', 'r') as f:\n",
    "    lines = f.readlines()\n",
    "    calibration_strings = [entry.strip() for entry in lines]\n",
    "calibration_strings"
   ]
  },
  {
   "cell_type": "code",
   "execution_count": 85,
   "metadata": {},
   "outputs": [
    {
     "data": {
      "text/plain": [
       "'8igh2wo3hree'"
      ]
     },
     "execution_count": 85,
     "metadata": {},
     "output_type": "execute_result"
    }
   ],
   "source": [
    "replace_digit_words(calibration_strings[1])"
   ]
  },
  {
   "cell_type": "code",
   "execution_count": 89,
   "metadata": {},
   "outputs": [],
   "source": [
    "def solve_part2(input_file: str) -> int:\n",
    "    with open(input_file, 'r') as f:\n",
    "        lines = f.readlines()\n",
    "        calibration_strings = [entry.strip() for entry in lines]\n",
    "        adjusted_strings = [replace_digit_words(calibration_str) for calibration_str in calibration_strings]\n",
    "        calibration_numbers = [get_digits(calibration_str) for calibration_str in adjusted_strings]\n",
    "        return sum(calibration_numbers)"
   ]
  },
  {
   "cell_type": "code",
   "execution_count": 90,
   "metadata": {},
   "outputs": [
    {
     "data": {
      "text/plain": [
       "281"
      ]
     },
     "execution_count": 90,
     "metadata": {},
     "output_type": "execute_result"
    }
   ],
   "source": [
    "solve_part2('example2.txt')"
   ]
  },
  {
   "cell_type": "code",
   "execution_count": null,
   "metadata": {},
   "outputs": [],
   "source": []
  }
 ],
 "metadata": {
  "kernelspec": {
   "display_name": "venv",
   "language": "python",
   "name": "python3"
  },
  "language_info": {
   "codemirror_mode": {
    "name": "ipython",
    "version": 3
   },
   "file_extension": ".py",
   "mimetype": "text/x-python",
   "name": "python",
   "nbconvert_exporter": "python",
   "pygments_lexer": "ipython3",
   "version": "3.11.3"
  }
 },
 "nbformat": 4,
 "nbformat_minor": 2
}
