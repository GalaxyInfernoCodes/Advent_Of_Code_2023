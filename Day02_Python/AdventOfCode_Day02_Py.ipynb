{
 "cells": [
  {
   "cell_type": "code",
   "execution_count": 4,
   "metadata": {},
   "outputs": [],
   "source": [
    "with open('example.txt', 'r') as f:\n",
    "    lines = f.readlines()\n",
    "    games = [entry.strip() for entry in lines]"
   ]
  },
  {
   "cell_type": "code",
   "execution_count": null,
   "metadata": {},
   "outputs": [],
   "source": [
    "class Game:\n",
    "    def __init__(self, game_str: str):\n",
    "        game, content = game_str.split(':')\n",
    "        content_rounds = content.split(';')\n",
    "        found_cubes = []    "
   ]
  },
  {
   "cell_type": "code",
   "execution_count": 16,
   "metadata": {},
   "outputs": [],
   "source": [
    "def parse_game(game_str: str):\n",
    "    # game = \"Game 1\", content = \"3 blue, 4 red; 1 red, 2 green, 6 blue; 2 green\"\n",
    "    game, content = game_str.split(':')\n",
    "    game_id = int(game.split(' ')[1])\n",
    "    # content_rounds = [\"3 blue, 4 red\", \"1 red, 2 green, 6 blue\", \"2 green\"]\n",
    "    rounds_of_game = content.split(';')\n",
    "    cube_rounds = []\n",
    "    for round in rounds_of_game:\n",
    "        found_cubes = [0, 0, 0]\n",
    "        # round example = \"3 blue, 4 red\" -> [[\"3\", \"blue\"], [\"4\", \"red\"]]\n",
    "        cube_groups = [cube_group.strip().split(' ') for cube_group in round.split(',')]\n",
    "        for cube_group in cube_groups:\n",
    "            if cube_group[1] == 'red':\n",
    "                found_cubes[0] += int(cube_group[0])\n",
    "            elif cube_group[1] == 'green':\n",
    "                found_cubes[1] += int(cube_group[0])\n",
    "            elif cube_group[1] == 'blue':\n",
    "                found_cubes[2] += int(cube_group[0])\n",
    "        cube_rounds.append(found_cubes)\n",
    "    return game_id, cube_rounds"
   ]
  },
  {
   "cell_type": "code",
   "execution_count": 17,
   "metadata": {},
   "outputs": [
    {
     "name": "stdout",
     "output_type": "stream",
     "text": [
      "(1, [[4, 0, 3], [1, 2, 6], [0, 2, 0]])\n",
      "(2, [[0, 2, 1], [1, 3, 4], [0, 1, 1]])\n",
      "(3, [[20, 8, 6], [4, 13, 5], [1, 5, 0]])\n",
      "(4, [[3, 1, 6], [6, 3, 0], [14, 3, 15]])\n",
      "(5, [[6, 3, 1], [1, 2, 2]])\n"
     ]
    }
   ],
   "source": [
    "for game in games: \n",
    "    print(parse_game(game))"
   ]
  },
  {
   "cell_type": "markdown",
   "metadata": {},
   "source": [
    "Contents as array: #red, #green, #blue"
   ]
  },
  {
   "cell_type": "code",
   "execution_count": 18,
   "metadata": {},
   "outputs": [],
   "source": [
    "def solve1(input_file: str) -> int:\n",
    "    compare_cubes = [12, 13, 14]\n",
    "    possible_games = []\n",
    "\n",
    "    with open(input_file, 'r') as f:\n",
    "        lines = f.readlines()\n",
    "        games = [entry.strip() for entry in lines]\n",
    "\n",
    "    for game in games:\n",
    "        game_id, cube_rounds = parse_game(game)\n",
    "        game_possible = True\n",
    "        for round in cube_rounds:\n",
    "            for round_color, limit_color in zip(round, compare_cubes):\n",
    "                if round_color > limit_color:\n",
    "                    game_possible = False\n",
    "        if game_possible:\n",
    "            possible_games.append(game_id)\n",
    "    return sum(possible_games)\n"
   ]
  },
  {
   "cell_type": "code",
   "execution_count": 20,
   "metadata": {},
   "outputs": [
    {
     "data": {
      "text/plain": [
       "8"
      ]
     },
     "execution_count": 20,
     "metadata": {},
     "output_type": "execute_result"
    }
   ],
   "source": [
    "solve1('example.txt')"
   ]
  },
  {
   "cell_type": "code",
   "execution_count": 21,
   "metadata": {},
   "outputs": [
    {
     "data": {
      "text/plain": [
       "2683"
      ]
     },
     "execution_count": 21,
     "metadata": {},
     "output_type": "execute_result"
    }
   ],
   "source": [
    "solve1('input.txt')"
   ]
  },
  {
   "cell_type": "code",
   "execution_count": 26,
   "metadata": {},
   "outputs": [],
   "source": [
    "def solve2(input_file: str) -> int:\n",
    "    power_of_games = []\n",
    "\n",
    "    with open(input_file, 'r') as f:\n",
    "        lines = f.readlines()\n",
    "        games = [entry.strip() for entry in lines]\n",
    "\n",
    "    for game in games:\n",
    "        minimum_cubes = [None, None, None]\n",
    "        _, cube_rounds = parse_game(game)\n",
    "        for round in cube_rounds:\n",
    "            for color_index in range(3):\n",
    "                if minimum_cubes[color_index] is None or round[color_index] > minimum_cubes[color_index]:\n",
    "                    minimum_cubes[color_index] = round[color_index]\n",
    "        power_of_games.append(minimum_cubes[0] * minimum_cubes[1] * minimum_cubes[2])\n",
    "    return sum(power_of_games)"
   ]
  },
  {
   "cell_type": "code",
   "execution_count": 27,
   "metadata": {},
   "outputs": [
    {
     "data": {
      "text/plain": [
       "2286"
      ]
     },
     "execution_count": 27,
     "metadata": {},
     "output_type": "execute_result"
    }
   ],
   "source": [
    "solve2('example.txt')"
   ]
  },
  {
   "cell_type": "code",
   "execution_count": 28,
   "metadata": {},
   "outputs": [
    {
     "data": {
      "text/plain": [
       "49710"
      ]
     },
     "execution_count": 28,
     "metadata": {},
     "output_type": "execute_result"
    }
   ],
   "source": [
    "solve2('input.txt')"
   ]
  },
  {
   "cell_type": "code",
   "execution_count": null,
   "metadata": {},
   "outputs": [],
   "source": []
  }
 ],
 "metadata": {
  "kernelspec": {
   "display_name": "venv",
   "language": "python",
   "name": "python3"
  },
  "language_info": {
   "codemirror_mode": {
    "name": "ipython",
    "version": 3
   },
   "file_extension": ".py",
   "mimetype": "text/x-python",
   "name": "python",
   "nbconvert_exporter": "python",
   "pygments_lexer": "ipython3",
   "version": "3.11.3"
  }
 },
 "nbformat": 4,
 "nbformat_minor": 2
}
