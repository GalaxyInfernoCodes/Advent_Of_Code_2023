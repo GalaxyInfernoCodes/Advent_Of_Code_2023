{
 "cells": [
  {
   "cell_type": "code",
   "execution_count": 7,
   "metadata": {},
   "outputs": [],
   "source": [
    "import numpy as np\n",
    "from typing import List"
   ]
  },
  {
   "cell_type": "markdown",
   "metadata": {},
   "source": [
    "## Part 1"
   ]
  },
  {
   "cell_type": "code",
   "execution_count": 8,
   "metadata": {},
   "outputs": [],
   "source": [
    "def parse_input(input_file: str) -> np.array:\n",
    "    with open(input_file, \"r\") as file:\n",
    "        char_array = None\n",
    "\n",
    "        for line in file:\n",
    "            line_chars = list(line.strip()) \n",
    "            line_array = np.array(line_chars)\n",
    "\n",
    "            # first line: assignment\n",
    "            if char_array is None:\n",
    "                char_array = line_array\n",
    "            # 2nd to nth line: append to existing 2d-array\n",
    "            else:\n",
    "                char_array = np.vstack((char_array, line_array))\n",
    "\n",
    "    #print(char_array)\n",
    "    return char_array"
   ]
  },
  {
   "cell_type": "code",
   "execution_count": 9,
   "metadata": {},
   "outputs": [
    {
     "name": "stdout",
     "output_type": "stream",
     "text": [
      "[['4' '6' '7' '.' '.' '1' '1' '4' '.' '.']\n",
      " ['.' '.' '.' '*' '.' '.' '.' '.' '.' '.']\n",
      " ['.' '.' '3' '5' '.' '.' '6' '3' '3' '.']\n",
      " ['.' '.' '.' '.' '.' '.' '#' '.' '.' '.']\n",
      " ['6' '1' '7' '*' '.' '.' '.' '.' '.' '.']\n",
      " ['.' '.' '.' '.' '.' '+' '.' '5' '8' '.']\n",
      " ['.' '.' '5' '9' '2' '.' '.' '.' '.' '.']\n",
      " ['.' '.' '.' '.' '.' '.' '7' '5' '5' '.']\n",
      " ['.' '.' '.' '$' '.' '*' '.' '.' '.' '.']\n",
      " ['.' '6' '6' '4' '.' '5' '9' '8' '.' '.']]\n"
     ]
    }
   ],
   "source": [
    "char_array = parse_input(\"example.txt\")\n",
    "print(char_array)"
   ]
  },
  {
   "cell_type": "code",
   "execution_count": 10,
   "metadata": {},
   "outputs": [],
   "source": [
    "def get_array_neighbors(char_array: np.array, row_index: int, column_index: int):\n",
    "    # build buffer around the array with '.' entries\n",
    "    buffered_array = np.pad(char_array, pad_width=1, mode='constant', constant_values='.')\n",
    "    adjusted_row_index = row_index + 1\n",
    "    adjusted_column_index = column_index + 1\n",
    "    # extract the three-by-three zone of neigbors around the entry\n",
    "    three_by_three_zone = buffered_array[adjusted_row_index - 1:adjusted_row_index + 2, adjusted_column_index - 1:adjusted_column_index + 2]\n",
    "    neighbors = three_by_three_zone.flatten().tolist()\n",
    "    # remove the entry itself\n",
    "    del neighbors[4]\n",
    "    return neighbors"
   ]
  },
  {
   "cell_type": "code",
   "execution_count": 11,
   "metadata": {},
   "outputs": [
    {
     "data": {
      "text/plain": [
       "['.', '.', '.', '6', '.', '.', '.', '*']"
      ]
     },
     "execution_count": 11,
     "metadata": {},
     "output_type": "execute_result"
    }
   ],
   "source": [
    "get_array_neighbors(char_array, row_index=0, column_index=2)"
   ]
  },
  {
   "cell_type": "code",
   "execution_count": 12,
   "metadata": {},
   "outputs": [],
   "source": [
    "def check_number(char_array: np.array, row_index: int, column_index: int):\n",
    "    \"\"\"Check if the number is valid, i.e. it has a symbol neighbor\"\"\"\n",
    "    neighbors = []\n",
    "    numbers = []\n",
    "    while char_array[row_index][column_index].isdigit():\n",
    "        numbers.append(char_array[row_index][column_index])\n",
    "        all_neighbors = get_array_neighbors(char_array, row_index, column_index)\n",
    "        symbol_neighbors = [n for n in all_neighbors if not n.isdigit() and n != '.']\n",
    "        neighbors.extend(symbol_neighbors)\n",
    "        column_index += 1\n",
    "        if column_index >= len(char_array[0]):\n",
    "            break\n",
    "    number_valid = True if len(neighbors) > 0 else False\n",
    "    return numbers, number_valid"
   ]
  },
  {
   "cell_type": "code",
   "execution_count": 13,
   "metadata": {},
   "outputs": [],
   "source": [
    "def find_numbers(char_array: np.array):\n",
    "    \"\"\"Find the numbers in the array\"\"\"\n",
    "    width = len(char_array[0])\n",
    "    numbers = []\n",
    "    for row_index, row in enumerate(char_array):\n",
    "        column_index = 0\n",
    "        while column_index < width:\n",
    "            entry = row[column_index]\n",
    "            if entry.isdigit():\n",
    "                found_numbers, number_valid = check_number(char_array, row_index, column_index)\n",
    "                if number_valid:\n",
    "                    combined_found_number = int(\"\".join(found_numbers))\n",
    "                    numbers.append(combined_found_number)\n",
    "                column_index += len(found_numbers)\n",
    "            else:\n",
    "                column_index += 1\n",
    "    return numbers\n"
   ]
  },
  {
   "cell_type": "code",
   "execution_count": 14,
   "metadata": {},
   "outputs": [],
   "source": [
    "def solve_part1(input_file: str) -> int:\n",
    "    char_array = parse_input(input_file)\n",
    "    numbers = find_numbers(char_array)\n",
    "    #print(\"found valid numbers:\", numbers)\n",
    "    return sum(numbers)"
   ]
  },
  {
   "cell_type": "code",
   "execution_count": 15,
   "metadata": {},
   "outputs": [
    {
     "data": {
      "text/plain": [
       "4361"
      ]
     },
     "execution_count": 15,
     "metadata": {},
     "output_type": "execute_result"
    }
   ],
   "source": [
    "solve_part1(\"example.txt\")"
   ]
  },
  {
   "cell_type": "code",
   "execution_count": 118,
   "metadata": {},
   "outputs": [],
   "source": [
    "#solve_part1(\"input.txt\")"
   ]
  },
  {
   "cell_type": "markdown",
   "metadata": {},
   "source": [
    "## Part 2"
   ]
  },
  {
   "cell_type": "code",
   "execution_count": 99,
   "metadata": {},
   "outputs": [],
   "source": [
    "def get_starting_numbers(one_dim_array: np.array, reverse=False):\n",
    "    \"\"\"Get the starting numbers in the array until there is a non-number character-entry\"\"\"\n",
    "    index = 0\n",
    "    numbers = []\n",
    "    if reverse:\n",
    "        one_dim_array = one_dim_array[::-1]\n",
    "    while index < len(one_dim_array) and one_dim_array[index].isdigit():\n",
    "        numbers.append(one_dim_array[index])\n",
    "        index += 1 \n",
    "    if reverse:\n",
    "        numbers = numbers[::-1]\n",
    "    return numbers"
   ]
  },
  {
   "cell_type": "code",
   "execution_count": 105,
   "metadata": {},
   "outputs": [],
   "source": [
    "def get_number_array_neighbors(char_array, row_index, column_index, location):\n",
    "    \"\"\"Get the row neighbors of the given index entry and expand to left and/or right while there are still numbers\"\"\"\n",
    "    if location == 'upper':\n",
    "        if row_index == 0:\n",
    "            return []\n",
    "        number_neighbor_chars = []\n",
    "        # left upper\n",
    "        number_neighbor_chars += get_starting_numbers(char_array[row_index - 1, :column_index], reverse=True)\n",
    "        # upper \n",
    "        middle_entry = ' ' if not char_array[row_index - 1, column_index].isdigit() else char_array[row_index - 1, column_index]\n",
    "        number_neighbor_chars.append(middle_entry)\n",
    "        # right upper\n",
    "        number_neighbor_chars += get_starting_numbers(char_array[row_index - 1][column_index + 1:])\n",
    "    if location == 'lower':\n",
    "        if row_index == len(char_array) - 1:\n",
    "            return []\n",
    "        number_neighbor_chars = []\n",
    "        # left lower\n",
    "        number_neighbor_chars += get_starting_numbers(char_array[row_index + 1, :column_index], reverse=True)\n",
    "        # lower \n",
    "        middle_entry = ' ' if not char_array[row_index + 1, column_index].isdigit() else char_array[row_index + 1, column_index]\n",
    "        number_neighbor_chars.append(middle_entry)\n",
    "        # right lower\n",
    "        number_neighbor_chars += get_starting_numbers(char_array[row_index + 1][column_index + 1:])\n",
    "    if location == 'left':\n",
    "        if column_index == 0:\n",
    "            return []\n",
    "        number_neighbor_chars = get_starting_numbers(char_array[row_index, :column_index], reverse=True)\n",
    "    if location == 'right':\n",
    "        if column_index == len(char_array[0]) - 1:\n",
    "            return []\n",
    "        number_neighbor_chars = get_starting_numbers(char_array[row_index, column_index + 1:])\n",
    "    #print(number_neighbor_chars)\n",
    "    #print('joined and split', \"\".join(number_neighbor_chars).split(' '))\n",
    "    number_neighbors = [int(number_entry) for number_entry in \"\".join(number_neighbor_chars).split(' ') if len(number_entry) > 0]\n",
    "    return number_neighbors"
   ]
  },
  {
   "cell_type": "code",
   "execution_count": 106,
   "metadata": {},
   "outputs": [],
   "source": [
    "def check_gear(char_array: np.array, row_index: int, column_index: int) -> List[int]:\n",
    "    upper_numbers = get_number_array_neighbors(char_array, row_index, column_index, location='upper')\n",
    "    left_numbers = get_number_array_neighbors(char_array, row_index, column_index, location='left')\n",
    "    right_numbers = get_number_array_neighbors(char_array, row_index, column_index, location='right')\n",
    "    lower_numbers = get_number_array_neighbors(char_array, row_index, column_index, location='lower')\n",
    "    return upper_numbers + left_numbers + right_numbers + lower_numbers"
   ]
  },
  {
   "cell_type": "code",
   "execution_count": 113,
   "metadata": {},
   "outputs": [],
   "source": [
    "def solve_part2(input_file: str) -> int:\n",
    "    char_array = parse_input(input_file)\n",
    "    gear_coords = np.where(char_array == '*')\n",
    "    gear_ratios = []\n",
    "    for coord in zip(*gear_coords):\n",
    "        print(\"gear at:\", coord)\n",
    "        found_numbers = check_gear(char_array, coord[0], coord[1])\n",
    "        print(\"found adjacent numbers:\", found_numbers)\n",
    "        if len(found_numbers) == 2:\n",
    "            gear_ratios.append(found_numbers[0] * found_numbers[1])\n",
    "    return sum(gear_ratios)"
   ]
  },
  {
   "cell_type": "code",
   "execution_count": 114,
   "metadata": {},
   "outputs": [
    {
     "data": {
      "text/plain": [
       "array([['4', '6', '7', '.', '.', '1', '1', '4', '.', '.'],\n",
       "       ['.', '.', '.', '*', '.', '.', '.', '.', '.', '.'],\n",
       "       ['.', '.', '3', '5', '.', '.', '6', '3', '3', '.'],\n",
       "       ['.', '.', '.', '.', '.', '.', '#', '.', '.', '.'],\n",
       "       ['6', '1', '7', '*', '.', '.', '.', '.', '.', '.'],\n",
       "       ['.', '.', '.', '.', '.', '+', '.', '5', '8', '.'],\n",
       "       ['.', '.', '5', '9', '2', '.', '.', '.', '.', '.'],\n",
       "       ['.', '.', '.', '.', '.', '.', '7', '5', '5', '.'],\n",
       "       ['.', '.', '.', '$', '.', '*', '.', '.', '.', '.'],\n",
       "       ['.', '6', '6', '4', '.', '5', '9', '8', '.', '.']], dtype='<U1')"
      ]
     },
     "execution_count": 114,
     "metadata": {},
     "output_type": "execute_result"
    }
   ],
   "source": [
    "char_array"
   ]
  },
  {
   "cell_type": "code",
   "execution_count": 115,
   "metadata": {},
   "outputs": [
    {
     "name": "stdout",
     "output_type": "stream",
     "text": [
      "gear at: (1, 3)\n",
      "found adjacent numbers: [467, 35]\n",
      "gear at: (4, 3)\n",
      "found adjacent numbers: [617]\n",
      "gear at: (8, 5)\n",
      "found adjacent numbers: [755, 598]\n"
     ]
    },
    {
     "data": {
      "text/plain": [
       "467835"
      ]
     },
     "execution_count": 115,
     "metadata": {},
     "output_type": "execute_result"
    }
   ],
   "source": [
    "solve_part2(\"example.txt\")"
   ]
  },
  {
   "cell_type": "code",
   "execution_count": 117,
   "metadata": {},
   "outputs": [],
   "source": [
    "#solve_part2(\"input.txt\")"
   ]
  },
  {
   "cell_type": "code",
   "execution_count": null,
   "metadata": {},
   "outputs": [],
   "source": []
  }
 ],
 "metadata": {
  "kernelspec": {
   "display_name": "venv",
   "language": "python",
   "name": "python3"
  },
  "language_info": {
   "codemirror_mode": {
    "name": "ipython",
    "version": 3
   },
   "file_extension": ".py",
   "mimetype": "text/x-python",
   "name": "python",
   "nbconvert_exporter": "python",
   "pygments_lexer": "ipython3",
   "version": "3.11.3"
  }
 },
 "nbformat": 4,
 "nbformat_minor": 2
}
