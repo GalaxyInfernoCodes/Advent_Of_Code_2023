{
 "cells": [
  {
   "cell_type": "markdown",
   "metadata": {},
   "source": [
    "## Part 1"
   ]
  },
  {
   "cell_type": "markdown",
   "metadata": {},
   "source": [
    "Card 1: 41 48 83 86 17 | 83 86  6 31 17  9 48 53"
   ]
  },
  {
   "cell_type": "code",
   "execution_count": 13,
   "metadata": {},
   "outputs": [],
   "source": [
    "class CardGame:\n",
    "    def __init__(self, card_str: str):\n",
    "        card_part, numbers_part = card_str.split(':')\n",
    "        self.card_id = int(card_part.split(' ')[-1])\n",
    "        winning_part, drawn_part = numbers_part.split('|')\n",
    "        self.winning_numbers = [int(x) for x in winning_part.split(' ') if len(x) > 0]\n",
    "        self.drawn_numbers = [int(x) for x in drawn_part.split(' ') if len(x) > 0]\n",
    "\n",
    "    def compute_score(self) -> int:\n",
    "        nr_of_wins = 0\n",
    "        for number in self.drawn_numbers:\n",
    "            if number in self.winning_numbers:\n",
    "                nr_of_wins += 1\n",
    "        if nr_of_wins == 0:\n",
    "            return 0\n",
    "        return 2**(nr_of_wins-1)\n",
    "        \n",
    "    \n",
    "    def __repr__(self) -> str:\n",
    "        return f'CardGame(card_id={self.card_id}, winning_numbers={self.winning_numbers}, drawn_numbers={self.drawn_numbers})'"
   ]
  },
  {
   "cell_type": "code",
   "execution_count": 14,
   "metadata": {},
   "outputs": [],
   "source": [
    "def solve_part1(input_file: str) -> int:\n",
    "    with open(input_file, \"r\") as f:\n",
    "        lines = f.readlines()\n",
    "        cards = [line.strip() for line in lines]\n",
    "    cards = [CardGame(card) for card in cards]\n",
    "\n",
    "    print(\"First Card:\", cards[0])\n",
    "\n",
    "    scores = [card.compute_score() for card in cards]\n",
    "    return sum(scores)"
   ]
  },
  {
   "cell_type": "code",
   "execution_count": 15,
   "metadata": {},
   "outputs": [
    {
     "name": "stdout",
     "output_type": "stream",
     "text": [
      "First Card: CardGame(card_id=1, winning_numbers=[41, 48, 83, 86, 17], drawn_numbers=[83, 86, 6, 31, 17, 9, 48, 53])\n"
     ]
    },
    {
     "data": {
      "text/plain": [
       "13"
      ]
     },
     "execution_count": 15,
     "metadata": {},
     "output_type": "execute_result"
    }
   ],
   "source": [
    "solve_part1('example.txt')"
   ]
  },
  {
   "cell_type": "code",
   "execution_count": 32,
   "metadata": {},
   "outputs": [],
   "source": [
    "#solve_part1('input.txt')"
   ]
  },
  {
   "cell_type": "markdown",
   "metadata": {},
   "source": [
    "## Part 2"
   ]
  },
  {
   "cell_type": "code",
   "execution_count": 23,
   "metadata": {},
   "outputs": [],
   "source": [
    "from typing import List\n",
    "from collections import deque"
   ]
  },
  {
   "cell_type": "code",
   "execution_count": 18,
   "metadata": {},
   "outputs": [],
   "source": [
    "class CopyCardGame:\n",
    "    def __init__(self, card_str: str):\n",
    "        card_part, numbers_part = card_str.split(':')\n",
    "        self.card_id = int(card_part.split(' ')[-1])\n",
    "        winning_part, drawn_part = numbers_part.split('|')\n",
    "        self.winning_numbers = [int(x) for x in winning_part.split(' ') if len(x) > 0]\n",
    "        self.drawn_numbers = [int(x) for x in drawn_part.split(' ') if len(x) > 0]\n",
    "\n",
    "        self.won_cards = self.compute_won_cards()\n",
    "\n",
    "    def compute_won_cards(self) -> List[int]:\n",
    "        nr_of_wins = 0\n",
    "        for number in self.drawn_numbers:\n",
    "            if number in self.winning_numbers:\n",
    "                nr_of_wins += 1\n",
    "        return [self.card_id + wins for wins in range(1, nr_of_wins+1)]\n",
    "        \n",
    "    \n",
    "    def __repr__(self) -> str:\n",
    "        return f'CardGame(card_id={self.card_id}, won_cards={self.won_cards})'"
   ]
  },
  {
   "cell_type": "code",
   "execution_count": 28,
   "metadata": {},
   "outputs": [],
   "source": [
    "def solve_part2(input_file: str) -> int:\n",
    "    with open(input_file, \"r\") as f:\n",
    "        lines = f.readlines()\n",
    "        cards = [line.strip() for line in lines]\n",
    "    cards = [CopyCardGame(card) for card in cards]\n",
    "\n",
    "    card_counts = {card.card_id: 1 for card in cards}\n",
    "\n",
    "    print(\"First Card:\", cards[0])\n",
    "    for card in cards:\n",
    "        print(card)\n",
    "\n",
    "    card_queue = deque([card.card_id for card in cards])\n",
    "    while card_queue:\n",
    "        card_id = card_queue.popleft()\n",
    "        won_cards = cards[card_id-1].won_cards\n",
    "        for won_card in won_cards:\n",
    "            card_counts[won_card] += 1\n",
    "        card_queue.extend(won_cards)\n",
    "    \n",
    "    return sum(card_counts.values())\n",
    "\n",
    "    #scores = [card.compute_score() for card in cards]\n",
    "    #return sum(scores)"
   ]
  },
  {
   "cell_type": "code",
   "execution_count": 29,
   "metadata": {},
   "outputs": [
    {
     "name": "stdout",
     "output_type": "stream",
     "text": [
      "First Card: CardGame(card_id=1, won_cards=[2, 3, 4, 5])\n",
      "CardGame(card_id=1, won_cards=[2, 3, 4, 5])\n",
      "CardGame(card_id=2, won_cards=[3, 4])\n",
      "CardGame(card_id=3, won_cards=[4, 5])\n",
      "CardGame(card_id=4, won_cards=[5])\n",
      "CardGame(card_id=5, won_cards=[])\n",
      "CardGame(card_id=6, won_cards=[])\n"
     ]
    },
    {
     "data": {
      "text/plain": [
       "30"
      ]
     },
     "execution_count": 29,
     "metadata": {},
     "output_type": "execute_result"
    }
   ],
   "source": [
    "solve_part2('example.txt')"
   ]
  },
  {
   "cell_type": "code",
   "execution_count": 31,
   "metadata": {},
   "outputs": [],
   "source": [
    "#solve_part2('input.txt')"
   ]
  },
  {
   "cell_type": "code",
   "execution_count": null,
   "metadata": {},
   "outputs": [],
   "source": []
  }
 ],
 "metadata": {
  "kernelspec": {
   "display_name": "venv",
   "language": "python",
   "name": "python3"
  },
  "language_info": {
   "codemirror_mode": {
    "name": "ipython",
    "version": 3
   },
   "file_extension": ".py",
   "mimetype": "text/x-python",
   "name": "python",
   "nbconvert_exporter": "python",
   "pygments_lexer": "ipython3",
   "version": "3.11.3"
  }
 },
 "nbformat": 4,
 "nbformat_minor": 2
}
