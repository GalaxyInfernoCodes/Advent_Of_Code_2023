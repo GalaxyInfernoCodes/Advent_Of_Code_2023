{
 "cells": [
  {
   "cell_type": "code",
   "execution_count": 8,
   "metadata": {},
   "outputs": [],
   "source": [
    "import math"
   ]
  },
  {
   "cell_type": "code",
   "execution_count": 20,
   "metadata": {},
   "outputs": [],
   "source": [
    "def find_ways_to_win(time, distance):\n",
    "    nr_of_wins = 0\n",
    "    for charge_time in range(0, time):\n",
    "        achieved_distance = (time-charge_time) * charge_time\n",
    "        if achieved_distance > distance:\n",
    "            nr_of_wins += 1\n",
    "    return nr_of_wins"
   ]
  },
  {
   "cell_type": "code",
   "execution_count": 21,
   "metadata": {},
   "outputs": [],
   "source": [
    "def solve_part1(input_file) -> int:\n",
    "    with open(input_file, \"r\") as f:\n",
    "        lines = f.readlines()\n",
    "        lines = [line.strip() for line in lines]\n",
    "    times = [int(nr) for nr in lines[0].split() if nr.isdigit()]\n",
    "    distances = [int(nr) for nr in lines[1].split() if nr.isdigit()]\n",
    "\n",
    "    nr_of_wins_per_race = [find_ways_to_win(time, distance) for time, distance in zip(times, distances)]\n",
    "    return math.prod(nr_of_wins_per_race)"
   ]
  },
  {
   "cell_type": "code",
   "execution_count": 22,
   "metadata": {},
   "outputs": [
    {
     "data": {
      "text/plain": [
       "288"
      ]
     },
     "execution_count": 22,
     "metadata": {},
     "output_type": "execute_result"
    }
   ],
   "source": [
    "solve_part1('example.txt')"
   ]
  },
  {
   "cell_type": "markdown",
   "metadata": {},
   "source": [
    "## Part 2"
   ]
  },
  {
   "cell_type": "code",
   "execution_count": 17,
   "metadata": {},
   "outputs": [],
   "source": [
    "def solve_part2(input_file) -> int:\n",
    "    with open(input_file, \"r\") as f:\n",
    "        lines = f.readlines()\n",
    "        lines = [line.strip() for line in lines]\n",
    "    times = [int(nr) for nr in lines[0].split() if nr.isdigit()]\n",
    "    distances = [int(nr) for nr in lines[1].split() if nr.isdigit()]\n",
    "\n",
    "    combined_time = int(\"\".join([str(time) for time in times]))\n",
    "    combined_distance = int(\"\".join([str(distance) for distance in distances]))\n",
    "\n",
    "    return find_ways_to_win(combined_time, combined_distance)"
   ]
  },
  {
   "cell_type": "code",
   "execution_count": 18,
   "metadata": {},
   "outputs": [
    {
     "data": {
      "text/plain": [
       "71503"
      ]
     },
     "execution_count": 18,
     "metadata": {},
     "output_type": "execute_result"
    }
   ],
   "source": [
    "solve_part2('example.txt')"
   ]
  },
  {
   "cell_type": "code",
   "execution_count": null,
   "metadata": {},
   "outputs": [],
   "source": []
  }
 ],
 "metadata": {
  "kernelspec": {
   "display_name": "venv",
   "language": "python",
   "name": "python3"
  },
  "language_info": {
   "codemirror_mode": {
    "name": "ipython",
    "version": 3
   },
   "file_extension": ".py",
   "mimetype": "text/x-python",
   "name": "python",
   "nbconvert_exporter": "python",
   "pygments_lexer": "ipython3",
   "version": "3.11.3"
  }
 },
 "nbformat": 4,
 "nbformat_minor": 2
}
