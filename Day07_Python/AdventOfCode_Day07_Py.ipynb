{
 "cells": [
  {
   "cell_type": "code",
   "execution_count": 8,
   "metadata": {},
   "outputs": [],
   "source": [
    "from collections import Counter"
   ]
  },
  {
   "cell_type": "code",
   "execution_count": 144,
   "metadata": {},
   "outputs": [],
   "source": [
    "class Hand:\n",
    "    def __init__(self, cards: str, bid: int, joker_activated=False):\n",
    "        self.cards = list(cards)\n",
    "        self.bid = bid\n",
    "        self.joker_activated = joker_activated\n",
    "        #print(\"Cards: \", \"\".join(self.cards))\n",
    "        self.hand_type = self.find_type()\n",
    "        #if 'J' in self.cards:\n",
    "        #    print(f\"Card: {''.join(self.cards)}, Hand Type: {self.hand_type}\")\n",
    "    \n",
    "    def find_type(self):\n",
    "        card_counts = Counter(self.cards)\n",
    "        if self.joker_activated and 'J' in card_counts:\n",
    "            nr_of_jokers = card_counts['J']\n",
    "            most_common_cards = card_counts.most_common(2)\n",
    "            if most_common_cards[0][0] == 'J':\n",
    "                if len(card_counts) == 1:\n",
    "                    return \"five\"\n",
    "                # add to second card\n",
    "                card_counts[most_common_cards[1][0]] += nr_of_jokers\n",
    "                card_counts.pop('J')\n",
    "            else:\n",
    "                # add to first card\n",
    "                card_counts[most_common_cards[0][0]] += nr_of_jokers\n",
    "                card_counts.pop('J')\n",
    "        #print(\"counter values\", counter_values)\n",
    "        counter_values = list(card_counts.values())\n",
    "        counter_values.sort(reverse=True)\n",
    "        if 5 in counter_values:\n",
    "            return \"five\"\n",
    "        elif 4 in counter_values:\n",
    "            return \"four\"\n",
    "        elif counter_values == [3, 2]:\n",
    "            return \"full house\"\n",
    "        elif counter_values == [3, 1, 1]:\n",
    "            return \"three\"\n",
    "        elif counter_values == [2, 2, 1]:\n",
    "            return \"two pair\"\n",
    "        elif counter_values == [2, 1, 1, 1]:\n",
    "            return \"one pair\"\n",
    "        elif counter_values == [1, 1, 1, 1, 1]:\n",
    "            return \"high card\"\n",
    "        else:\n",
    "            return \"unknown\"\n",
    "    \n",
    "\n",
    "    def __str__(self):\n",
    "        return f\"Cards: {''.join(self.cards)}, Bid: {self.bid}\"\n",
    "    \n",
    "    def __repr__(self):\n",
    "        return f\"Cards: {''.join(self.cards)}, Bid: {self.bid}, Hand Type: {self.hand_type}\""
   ]
  },
  {
   "cell_type": "code",
   "execution_count": 137,
   "metadata": {},
   "outputs": [],
   "source": [
    "def assign_value(hand, joker_activated=False) -> int:\n",
    "    card_value = {'A': \"13\", 'K': \"12\", 'Q': \"11\", 'J': \"10\", 'T': \"09\", '9': \"08\", '8': \"07\", \n",
    "                  '7': \"06\", '6': \"05\", '5': \"04\", '4': \"03\", '3': \"02\", '2': \"01\"}\n",
    "    if joker_activated:\n",
    "        card_value = {'A': \"13\", 'K': \"12\", 'Q': \"11\", 'T': \"10\", '9': \"09\", '8': \"08\",\n",
    "                      '7': \"07\", '6': \"06\", '5': \"05\", '4': \"04\", '3': \"03\", '2': \"02\", 'J': \"01\"}\n",
    "    card_values = \"\".join([card_value[card] for card in hand.cards])\n",
    "    if hand.hand_type == \"five\":\n",
    "        return \"7\" + card_values\n",
    "    elif hand.hand_type == \"four\":\n",
    "        return \"6\" + card_values\n",
    "    elif hand.hand_type == \"full house\":\n",
    "        return \"5\" + card_values\n",
    "    elif hand.hand_type == \"three\":\n",
    "        return \"4\" + card_values\n",
    "    elif hand.hand_type == \"two pair\":\n",
    "        return \"3\" + card_values\n",
    "    elif hand.hand_type == \"one pair\":\n",
    "        return \"2\" + card_values\n",
    "    elif hand.hand_type == \"high card\":\n",
    "        return \"1\" + card_values"
   ]
  },
  {
   "cell_type": "code",
   "execution_count": 138,
   "metadata": {},
   "outputs": [],
   "source": [
    "def solve_part1(input_file) -> int:\n",
    "    with open(input_file, \"r\") as f:\n",
    "        lines = f.readlines()\n",
    "        lines = [line.strip() for line in lines]\n",
    "    \n",
    "    all_hands = []\n",
    "\n",
    "    for line in lines: \n",
    "        cards, bid = line.split()\n",
    "        hand = Hand(cards, int(bid))\n",
    "        all_hands.append(hand)\n",
    "\n",
    "    sorted_hands = sorted(all_hands, key=assign_value, reverse=True)\n",
    "    nr_of_hands = len(sorted_hands)\n",
    "\n",
    "    values = []\n",
    "    for hand, rank in zip(sorted_hands, range(nr_of_hands, 0, -1)):\n",
    "        #print(\"hand\", hand, \"rank\", rank)\n",
    "        values.append(hand.bid * rank)\n",
    "    \n",
    "    return sum(values)\n",
    "    "
   ]
  },
  {
   "cell_type": "code",
   "execution_count": 148,
   "metadata": {},
   "outputs": [
    {
     "data": {
      "text/plain": [
       "6440"
      ]
     },
     "execution_count": 148,
     "metadata": {},
     "output_type": "execute_result"
    }
   ],
   "source": [
    "solve_part1('example.txt')"
   ]
  },
  {
   "cell_type": "markdown",
   "metadata": {},
   "source": [
    "## Part 2"
   ]
  },
  {
   "cell_type": "code",
   "execution_count": 142,
   "metadata": {},
   "outputs": [],
   "source": [
    "def solve_part2(input_file) -> int:\n",
    "    with open(input_file, \"r\") as f:\n",
    "        lines = f.readlines()\n",
    "        lines = [line.strip() for line in lines]\n",
    "    \n",
    "    all_hands = []\n",
    "\n",
    "    for line in lines: \n",
    "        cards, bid = line.split()\n",
    "        hand = Hand(cards, int(bid), joker_activated=True)\n",
    "        all_hands.append(hand)\n",
    "\n",
    "    sorted_hands = sorted(all_hands, key=lambda hand: assign_value(hand, joker_activated=True), reverse=True)\n",
    "    nr_of_hands = len(sorted_hands)\n",
    "\n",
    "    values = []\n",
    "    for hand, rank in zip(sorted_hands, range(nr_of_hands, 0, -1)):\n",
    "        #print(\"hand\", hand, \"rank\", rank)\n",
    "        values.append(hand.bid * rank)\n",
    "    \n",
    "    return sum(values)\n",
    "    "
   ]
  },
  {
   "cell_type": "code",
   "execution_count": 147,
   "metadata": {},
   "outputs": [
    {
     "data": {
      "text/plain": [
       "5905"
      ]
     },
     "execution_count": 147,
     "metadata": {},
     "output_type": "execute_result"
    }
   ],
   "source": [
    "solve_part2('example.txt')"
   ]
  },
  {
   "cell_type": "code",
   "execution_count": null,
   "metadata": {},
   "outputs": [],
   "source": []
  }
 ],
 "metadata": {
  "kernelspec": {
   "display_name": "venv",
   "language": "python",
   "name": "python3"
  },
  "language_info": {
   "codemirror_mode": {
    "name": "ipython",
    "version": 3
   },
   "file_extension": ".py",
   "mimetype": "text/x-python",
   "name": "python",
   "nbconvert_exporter": "python",
   "pygments_lexer": "ipython3",
   "version": "3.11.3"
  }
 },
 "nbformat": 4,
 "nbformat_minor": 2
}
