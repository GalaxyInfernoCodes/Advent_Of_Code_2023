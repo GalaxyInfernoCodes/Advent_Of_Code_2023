{
 "cells": [
  {
   "cell_type": "code",
   "execution_count": 87,
   "metadata": {},
   "outputs": [],
   "source": [
    "from typing import List, Dict, Tuple\n",
    "import math\n",
    "from functools import reduce"
   ]
  },
  {
   "cell_type": "markdown",
   "metadata": {},
   "source": [
    "## Part 1"
   ]
  },
  {
   "cell_type": "code",
   "execution_count": 6,
   "metadata": {},
   "outputs": [],
   "source": [
    "def solve_part1(input_file) -> int:\n",
    "    with open(input_file, \"r\") as f:\n",
    "        lines = f.readlines()\n",
    "        lines = [line.strip() for line in lines]\n",
    "\n",
    "    # LR line \n",
    "    first_line = lines.pop(0)\n",
    "    map_instructions = list(first_line)\n",
    "\n",
    "    map_nodes = {}\n",
    "    for line in lines[1:]:\n",
    "        parts = line.split(\"=\")\n",
    "        source_node = parts[0].strip()\n",
    "        left_node, right_node = [part.strip() for part in parts[1].strip(\" ()\").split(\",\")]\n",
    "        map_nodes[source_node] = (left_node, right_node)\n",
    "    \n",
    "    current_node = \"AAA\"\n",
    "    steps = 0\n",
    "    while current_node != \"ZZZ\":\n",
    "        current_direction = map_instructions[0]\n",
    "        left_node, right_node = map_nodes[current_node]\n",
    "        if current_direction == \"L\":\n",
    "            current_node = left_node\n",
    "        elif current_direction == \"R\":\n",
    "            current_node = right_node\n",
    "        steps += 1\n",
    "        map_instructions = map_instructions[1:] + list(map_instructions[0])\n",
    "\n",
    "    return steps\n",
    "    "
   ]
  },
  {
   "cell_type": "code",
   "execution_count": 9,
   "metadata": {},
   "outputs": [
    {
     "data": {
      "text/plain": [
       "2"
      ]
     },
     "execution_count": 9,
     "metadata": {},
     "output_type": "execute_result"
    }
   ],
   "source": [
    "solve_part1(\"example1.txt\")"
   ]
  },
  {
   "cell_type": "code",
   "execution_count": 8,
   "metadata": {},
   "outputs": [
    {
     "data": {
      "text/plain": [
       "6"
      ]
     },
     "execution_count": 8,
     "metadata": {},
     "output_type": "execute_result"
    }
   ],
   "source": [
    "solve_part1(\"example2.txt\")"
   ]
  },
  {
   "cell_type": "code",
   "execution_count": 10,
   "metadata": {},
   "outputs": [
    {
     "data": {
      "text/plain": [
       "21409"
      ]
     },
     "execution_count": 10,
     "metadata": {},
     "output_type": "execute_result"
    }
   ],
   "source": [
    "solve_part1(\"input.txt\")"
   ]
  },
  {
   "cell_type": "markdown",
   "metadata": {},
   "source": [
    "## Part 2"
   ]
  },
  {
   "cell_type": "code",
   "execution_count": 81,
   "metadata": {},
   "outputs": [],
   "source": [
    "def find_start_states(map_nodes = Dict[str, Tuple[str, str]]) -> List[str]:\n",
    "    return [node for node in map_nodes if \"A\" in node]\n",
    "\n",
    "def is_final_state(current_nodes = List[str]) -> bool:\n",
    "    return all([\"Z\" in node for node in current_nodes])\n",
    "\n",
    "def find_loop(start_node: str, map_nodes: Dict[str, Tuple[str, str]], map_instructions: List[str]) -> List[str]:\n",
    "    current_node = start_node\n",
    "    z_nodes = dict()\n",
    "\n",
    "    steps = 0\n",
    "    instruction_index = 0\n",
    "    searching = True\n",
    "    while searching:\n",
    "        if current_node[-1] == \"Z\":\n",
    "            if current_node in z_nodes:\n",
    "                steps_to_z = z_nodes[current_node]\n",
    "                loop_length = steps - steps_to_z\n",
    "                return steps_to_z, loop_length\n",
    "            z_nodes[current_node] = steps\n",
    "        current_direction = map_instructions[instruction_index]\n",
    "        left_node, right_node = map_nodes[current_node]\n",
    "        if current_direction == \"L\":\n",
    "            current_node = left_node\n",
    "        elif current_direction == \"R\":\n",
    "            current_node = right_node\n",
    "        steps += 1\n",
    "        instruction_index += 1 \n",
    "        if instruction_index == len(map_instructions):\n",
    "            instruction_index = 0\n"
   ]
  },
  {
   "cell_type": "code",
   "execution_count": 88,
   "metadata": {},
   "outputs": [],
   "source": [
    "def solve_part2(input_file) -> int:\n",
    "    with open(input_file, \"r\") as f:\n",
    "        lines = f.readlines()\n",
    "        lines = [line.strip() for line in lines]\n",
    "\n",
    "    # LR line \n",
    "    first_line = lines.pop(0)\n",
    "    map_instructions = list(first_line)\n",
    "    print(\"len map instructions\", len(map_instructions))\n",
    "\n",
    "    map_nodes = {}\n",
    "    for line in lines[1:]:\n",
    "        parts = line.split(\"=\")\n",
    "        source_node = parts[0].strip()\n",
    "        left_node, right_node = [part.strip() for part in parts[1].strip(\" ()\").split(\",\")]\n",
    "        map_nodes[source_node] = (left_node, right_node)\n",
    "    \n",
    "    start_nodes = find_start_states(map_nodes)\n",
    "    print(\"start states\", start_nodes)\n",
    "    loop_lenghts = []\n",
    "    for start_node in start_nodes:\n",
    "        steps_to_z, loop_length = find_loop(start_node, map_nodes, map_instructions)\n",
    "        loop_lenghts.append(loop_length)\n",
    "        print(f\"Start state: {start_node}, steps to Z: {steps_to_z}, loop length: {loop_length}\")\n",
    "    \n",
    "    return reduce(lambda x, y: math.lcm(x, y), loop_lenghts)\n",
    "    "
   ]
  },
  {
   "cell_type": "markdown",
   "metadata": {},
   "source": [
    "Note that the number of steps to the first Z and the loop length is always the same. So we simply need to find the least common multiple of all of these. "
   ]
  },
  {
   "cell_type": "code",
   "execution_count": 89,
   "metadata": {},
   "outputs": [
    {
     "name": "stdout",
     "output_type": "stream",
     "text": [
      "len map instructions 2\n",
      "start states ['11A', '22A']\n",
      "Start state: 11A, steps to Z: 2, loop length: 2\n",
      "Start state: 22A, steps to Z: 3, loop length: 3\n"
     ]
    },
    {
     "data": {
      "text/plain": [
       "6"
      ]
     },
     "execution_count": 89,
     "metadata": {},
     "output_type": "execute_result"
    }
   ],
   "source": [
    "solve_part2(\"example3.txt\")"
   ]
  },
  {
   "cell_type": "code",
   "execution_count": 90,
   "metadata": {},
   "outputs": [
    {
     "name": "stdout",
     "output_type": "stream",
     "text": [
      "len map instructions 271\n",
      "start states ['AAA', 'XDA', 'XSA', 'CFA', 'HJA', 'HPA']\n",
      "Start state: AAA, steps to Z: 21409, loop length: 21409\n",
      "Start state: XDA, steps to Z: 14363, loop length: 14363\n",
      "Start state: XSA, steps to Z: 15989, loop length: 15989\n",
      "Start state: CFA, steps to Z: 16531, loop length: 16531\n",
      "Start state: HJA, steps to Z: 19241, loop length: 19241\n",
      "Start state: HPA, steps to Z: 19783, loop length: 19783\n"
     ]
    },
    {
     "data": {
      "text/plain": [
       "21165830176709"
      ]
     },
     "execution_count": 90,
     "metadata": {},
     "output_type": "execute_result"
    }
   ],
   "source": [
    "solve_part2(\"input.txt\")"
   ]
  },
  {
   "cell_type": "code",
   "execution_count": null,
   "metadata": {},
   "outputs": [],
   "source": []
  },
  {
   "cell_type": "code",
   "execution_count": null,
   "metadata": {},
   "outputs": [],
   "source": []
  },
  {
   "cell_type": "code",
   "execution_count": null,
   "metadata": {},
   "outputs": [],
   "source": []
  },
  {
   "cell_type": "code",
   "execution_count": null,
   "metadata": {},
   "outputs": [],
   "source": []
  }
 ],
 "metadata": {
  "kernelspec": {
   "display_name": "venv",
   "language": "python",
   "name": "python3"
  },
  "language_info": {
   "codemirror_mode": {
    "name": "ipython",
    "version": 3
   },
   "file_extension": ".py",
   "mimetype": "text/x-python",
   "name": "python",
   "nbconvert_exporter": "python",
   "pygments_lexer": "ipython3",
   "version": "3.11.3"
  }
 },
 "nbformat": 4,
 "nbformat_minor": 2
}
