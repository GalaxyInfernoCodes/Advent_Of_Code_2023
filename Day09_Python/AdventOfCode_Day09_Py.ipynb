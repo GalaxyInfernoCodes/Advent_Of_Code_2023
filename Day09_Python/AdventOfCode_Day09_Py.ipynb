{
 "cells": [
  {
   "cell_type": "code",
   "execution_count": 5,
   "metadata": {},
   "outputs": [],
   "source": [
    "from typing import List\n",
    "from functools import reduce"
   ]
  },
  {
   "cell_type": "code",
   "execution_count": 10,
   "metadata": {},
   "outputs": [],
   "source": [
    "def derivate_value_list(values: List[int]) -> List[int]:\n",
    "    new_derivations = []\n",
    "    for value_index in range(len(values) - 1):\n",
    "        new_derivations.append(values[value_index + 1] - values[value_index])\n",
    "    return new_derivations"
   ]
  },
  {
   "cell_type": "code",
   "execution_count": 21,
   "metadata": {},
   "outputs": [],
   "source": [
    "class ValueHistory:\n",
    "    def __init__(self, values: str):\n",
    "        self.values = [int(x) for x in values.split()]\n",
    "        self.derivations = []\n",
    "        self.derivate_until_zero()\n",
    "\n",
    "    def derivate_until_zero(self):\n",
    "        self.derivations.append(self.values)\n",
    "        while not all(x == 0 for x in self.derivations[-1]):\n",
    "            new_derivation = derivate_value_list(self.derivations[-1])\n",
    "            self.derivations.append(new_derivation)\n",
    "        \n",
    "    def fill_missing_values(self, negative=False):\n",
    "        value_to_add = 0 \n",
    "        for value_list in reversed(self.derivations):\n",
    "            if negative:\n",
    "                new_value = value_list[0] - value_to_add\n",
    "            else:\n",
    "                new_value = value_list[-1] + value_to_add\n",
    "            value_to_add = new_value\n",
    "        return new_value"
   ]
  },
  {
   "cell_type": "code",
   "execution_count": 22,
   "metadata": {},
   "outputs": [],
   "source": [
    "def solve_part1(input_file) -> int:\n",
    "    with open(input_file, \"r\") as f:\n",
    "        lines = f.readlines()\n",
    "        lines = [line.strip() for line in lines]\n",
    "\n",
    "    value_histories = []\n",
    "    for line in lines:\n",
    "        new_value = ValueHistory(line)\n",
    "        value_histories.append(new_value)\n",
    "\n",
    "    added_values = []\n",
    "    for value_history in value_histories:\n",
    "        new_value = value_history.fill_missing_values()\n",
    "        added_values.append(new_value)\n",
    "\n",
    "    return sum(added_values)"
   ]
  },
  {
   "cell_type": "code",
   "execution_count": 23,
   "metadata": {},
   "outputs": [
    {
     "data": {
      "text/plain": [
       "114"
      ]
     },
     "execution_count": 23,
     "metadata": {},
     "output_type": "execute_result"
    }
   ],
   "source": [
    "solve_part1('example.txt')"
   ]
  },
  {
   "cell_type": "code",
   "execution_count": 24,
   "metadata": {},
   "outputs": [
    {
     "data": {
      "text/plain": [
       "1581679977"
      ]
     },
     "execution_count": 24,
     "metadata": {},
     "output_type": "execute_result"
    }
   ],
   "source": [
    "solve_part1('input.txt')"
   ]
  },
  {
   "cell_type": "code",
   "execution_count": 20,
   "metadata": {},
   "outputs": [],
   "source": [
    "def solve_part2(input_file) -> int:\n",
    "    with open(input_file, \"r\") as f:\n",
    "        lines = f.readlines()\n",
    "        lines = [line.strip() for line in lines]\n",
    "\n",
    "    value_histories = []\n",
    "    for line in lines:\n",
    "        new_value = ValueHistory(line)\n",
    "        value_histories.append(new_value)\n",
    "\n",
    "    added_values = []\n",
    "    for value_history in value_histories:\n",
    "        new_value = value_history.fill_missing_values(negative=True)\n",
    "        added_values.append(new_value)\n",
    "\n",
    "    return sum(added_values)"
   ]
  },
  {
   "cell_type": "code",
   "execution_count": 25,
   "metadata": {},
   "outputs": [
    {
     "data": {
      "text/plain": [
       "2"
      ]
     },
     "execution_count": 25,
     "metadata": {},
     "output_type": "execute_result"
    }
   ],
   "source": [
    "solve_part2('example.txt')"
   ]
  },
  {
   "cell_type": "code",
   "execution_count": 26,
   "metadata": {},
   "outputs": [
    {
     "data": {
      "text/plain": [
       "889"
      ]
     },
     "execution_count": 26,
     "metadata": {},
     "output_type": "execute_result"
    }
   ],
   "source": [
    "solve_part2('input.txt')"
   ]
  },
  {
   "cell_type": "code",
   "execution_count": null,
   "metadata": {},
   "outputs": [],
   "source": []
  }
 ],
 "metadata": {
  "kernelspec": {
   "display_name": "venv",
   "language": "python",
   "name": "python3"
  },
  "language_info": {
   "codemirror_mode": {
    "name": "ipython",
    "version": 3
   },
   "file_extension": ".py",
   "mimetype": "text/x-python",
   "name": "python",
   "nbconvert_exporter": "python",
   "pygments_lexer": "ipython3",
   "version": "3.11.3"
  }
 },
 "nbformat": 4,
 "nbformat_minor": 2
}
