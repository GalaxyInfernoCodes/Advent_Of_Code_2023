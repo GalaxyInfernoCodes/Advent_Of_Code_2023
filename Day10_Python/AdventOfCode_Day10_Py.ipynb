{
 "cells": [
  {
   "cell_type": "code",
   "execution_count": 35,
   "metadata": {},
   "outputs": [],
   "source": [
    "import numpy as np\n",
    "from typing import List, Tuple"
   ]
  },
  {
   "cell_type": "code",
   "execution_count": 2,
   "metadata": {},
   "outputs": [],
   "source": [
    "def parse_input(input_file: str) -> np.array:\n",
    "    with open(input_file, \"r\") as file:\n",
    "        char_array = None\n",
    "\n",
    "        for line in file:\n",
    "            line_chars = list(line.strip()) \n",
    "            line_array = np.array(line_chars)\n",
    "\n",
    "            # first line: assignment\n",
    "            if char_array is None:\n",
    "                char_array = line_array\n",
    "            # 2nd to nth line: append to existing 2d-array\n",
    "            else:\n",
    "                char_array = np.vstack((char_array, line_array))\n",
    "\n",
    "    #print(char_array)\n",
    "    return char_array"
   ]
  },
  {
   "cell_type": "code",
   "execution_count": 3,
   "metadata": {},
   "outputs": [
    {
     "data": {
      "text/plain": [
       "array([['7', '-', 'F', '7', '-'],\n",
       "       ['.', 'F', 'J', '|', '7'],\n",
       "       ['S', 'J', 'L', 'L', '7'],\n",
       "       ['|', 'F', '-', '-', 'J'],\n",
       "       ['L', 'J', '.', 'L', 'J']], dtype='<U1')"
      ]
     },
     "execution_count": 3,
     "metadata": {},
     "output_type": "execute_result"
    }
   ],
   "source": [
    "parse_input('example.txt')"
   ]
  },
  {
   "cell_type": "code",
   "execution_count": 37,
   "metadata": {},
   "outputs": [],
   "source": [
    "# | is a vertical pipe connecting north and south.\n",
    "# - is a horizontal pipe connecting east and west.\n",
    "# L is a 90-degree bend connecting north and east.\n",
    "# J is a 90-degree bend connecting north and west.\n",
    "# 7 is a 90-degree bend connecting south and west.\n",
    "# F is a 90-degree bend connecting south and east."
   ]
  },
  {
   "cell_type": "code",
   "execution_count": 165,
   "metadata": {},
   "outputs": [],
   "source": [
    "def get_next_direction(pipe_array: np.array, entry_direction: str, row_index: int, col_index: int) -> Tuple[int, int]:\n",
    "    current_pipe = pipe_array[row_index, col_index]\n",
    "    #print(f\"Action, current_pipe: {current_pipe}, entry_direction: {entry_direction}, current_row_index: {row_index}, current_col_index: {col_index}\")\n",
    "    if current_pipe == \"|\" and entry_direction == \"up\":\n",
    "        return \"up\"\n",
    "    elif current_pipe == \"|\" and entry_direction == \"down\":\n",
    "        return \"down\"\n",
    "    elif current_pipe == \"-\" and entry_direction == \"right\":\n",
    "        return \"right\"\n",
    "    elif current_pipe == \"-\" and entry_direction == \"left\":\n",
    "        return \"left\"\n",
    "    elif current_pipe == \"L\" and entry_direction == \"down\":\n",
    "        return \"right\"\n",
    "    elif current_pipe == \"L\" and entry_direction == \"left\":\n",
    "        return \"up\"\n",
    "    elif current_pipe == \"J\" and entry_direction == \"right\":\n",
    "        return \"up\"\n",
    "    elif current_pipe == \"J\" and entry_direction == \"down\":\n",
    "        return \"left\"\n",
    "    elif current_pipe == \"7\" and entry_direction == \"up\":\n",
    "        return \"left\"\n",
    "    elif current_pipe == \"7\" and entry_direction == \"right\":\n",
    "        return \"down\"\n",
    "    elif current_pipe == \"F\" and entry_direction == \"up\":\n",
    "        return \"right\"\n",
    "    elif current_pipe == \"F\" and entry_direction == \"left\":\n",
    "        return \"down\"\n",
    "    else:\n",
    "        print(f\"Error, current_pipe: {current_pipe}, entry_direction: {entry_direction}, current_row_index: {row_index}, current_col_index: {col_index}\")"
   ]
  },
  {
   "cell_type": "code",
   "execution_count": 166,
   "metadata": {},
   "outputs": [],
   "source": [
    "def solve_part1(input_file: str) -> int:\n",
    "    pipe_array = parse_input(input_file)\n",
    "    pipe_array = np.pad(pipe_array, pad_width=1, constant_values='.')\n",
    "    #print(pipe_array)\n",
    "    count_array = np.zeros(pipe_array.shape, dtype=int) - 1\n",
    "    \n",
    "    row_indices, col_indices = np.where(pipe_array == 'S')\n",
    "    start_location = np.array([row_indices[0], col_indices[0]])\n",
    "\n",
    "    count_array[start_location[0], start_location[1]] = 0\n",
    "\n",
    "    move_difference = {\n",
    "        \"up\": (-1, 0),\n",
    "        \"down\": (1, 0),\n",
    "        \"left\": (0, -1),\n",
    "        \"right\": (0, 1)\n",
    "    }\n",
    "\n",
    "    # get neighbor field of S (look at this to find out if your S is also a \"F\") adjust first direction to your input\n",
    "    # start_field = pipe_array[start_location[0]-1:start_location[0]+2, start_location[1]-1:start_location[1]+2]\n",
    "    # print(start_field)\n",
    "    # start field in my example is \"F\", so I start by walking \"right\". \n",
    "    # You could also walk down I suppose and walk the circle in the other direction\n",
    "    current_location = start_location + move_difference[\"right\"]\n",
    "    current_direction = \"right\"\n",
    "    current_count = 1\n",
    "    count_array[current_location[0], current_location[1]] = current_count\n",
    "    # traverse loop\n",
    "    while pipe_array[current_location[0], current_location[1]] != \"S\":\n",
    "        current_direction = get_next_direction(pipe_array, current_direction, current_location[0], current_location[1])\n",
    "        current_location = current_location + move_difference[current_direction]\n",
    "        current_count += 1\n",
    "        count_array[current_location[0], current_location[1]] = current_count\n",
    "\n",
    "    print(\"Loop length\", current_count)\n",
    "    return current_count//2"
   ]
  },
  {
   "cell_type": "code",
   "execution_count": 167,
   "metadata": {},
   "outputs": [
    {
     "name": "stdout",
     "output_type": "stream",
     "text": [
      "Loop length 14194\n"
     ]
    },
    {
     "data": {
      "text/plain": [
       "7097"
      ]
     },
     "execution_count": 167,
     "metadata": {},
     "output_type": "execute_result"
    }
   ],
   "source": [
    "solve_part1('input.txt')"
   ]
  },
  {
   "cell_type": "code",
   "execution_count": 172,
   "metadata": {},
   "outputs": [],
   "source": [
    "def solve_part2(input_file: str) -> int:\n",
    "    pipe_array = parse_input(input_file)\n",
    "    pipe_array = np.pad(pipe_array, pad_width=1, constant_values='.')\n",
    "    #print(pipe_array)\n",
    "    mark_array = np.full(pipe_array.shape, \".\", dtype=str)\n",
    "    \n",
    "    row_indices, col_indices = np.where(pipe_array == 'S')\n",
    "    start_location = np.array([row_indices[0], col_indices[0]])\n",
    "\n",
    "    # mark all pipes of the main loop with \"M\"\n",
    "    mark_array[start_location[0], start_location[1]] = \"M\"\n",
    "    \n",
    "\n",
    "    move_difference = {\n",
    "        \"up\": (-1, 0),\n",
    "        \"down\": (1, 0),\n",
    "        \"left\": (0, -1),\n",
    "        \"right\": (0, 1)\n",
    "    }\n",
    "\n",
    "    # get neighbor field of S (look at this to find out if your S is also a \"F\") adjust first direction to your input\n",
    "    start_field = pipe_array[start_location[0]-1:start_location[0]+2, start_location[1]-1:start_location[1]+2]\n",
    "    print(start_field)\n",
    "    # start field in my example is \"F\", so I start by walking \"right\". \n",
    "    # You could also walk down I suppose and walk the circle in the other direction\n",
    "    current_location = start_location + move_difference[\"right\"]\n",
    "    current_direction = \"right\"\n",
    "    mark_array[current_location[0], current_location[1]] = \"M\"\n",
    "    # traverse loop\n",
    "    while pipe_array[current_location[0], current_location[1]] != \"S\":\n",
    "        current_direction = get_next_direction(pipe_array, current_direction, current_location[0], current_location[1])\n",
    "        current_location = current_location + move_difference[current_direction]\n",
    "        mark_array[current_location[0], current_location[1]] = \"M\"\n",
    "\n",
    "    print(mark_array)\n",
    "    np.savetxt(\"mark_array.txt\", mark_array, fmt=\"%s\")\n",
    "    return 0"
   ]
  },
  {
   "cell_type": "code",
   "execution_count": 173,
   "metadata": {},
   "outputs": [
    {
     "name": "stdout",
     "output_type": "stream",
     "text": [
      "[['.' '.' 'F']\n",
      " ['.' 'S' 'J']\n",
      " ['.' '|' 'F']]\n",
      "[['.' '.' '.' '.' '.' '.' '.']\n",
      " ['.' '.' '.' 'M' 'M' '.' '.']\n",
      " ['.' '.' 'M' 'M' 'M' '.' '.']\n",
      " ['.' 'M' 'M' '.' 'M' 'M' '.']\n",
      " ['.' 'M' 'M' 'M' 'M' 'M' '.']\n",
      " ['.' 'M' 'M' '.' '.' '.' '.']\n",
      " ['.' '.' '.' '.' '.' '.' '.']]\n"
     ]
    },
    {
     "data": {
      "text/plain": [
       "0"
      ]
     },
     "execution_count": 173,
     "metadata": {},
     "output_type": "execute_result"
    }
   ],
   "source": [
    "solve_part2('example.txt')"
   ]
  },
  {
   "cell_type": "code",
   "execution_count": null,
   "metadata": {},
   "outputs": [],
   "source": []
  }
 ],
 "metadata": {
  "kernelspec": {
   "display_name": "venv",
   "language": "python",
   "name": "python3"
  },
  "language_info": {
   "codemirror_mode": {
    "name": "ipython",
    "version": 3
   },
   "file_extension": ".py",
   "mimetype": "text/x-python",
   "name": "python",
   "nbconvert_exporter": "python",
   "pygments_lexer": "ipython3",
   "version": "3.11.3"
  }
 },
 "nbformat": 4,
 "nbformat_minor": 2
}
