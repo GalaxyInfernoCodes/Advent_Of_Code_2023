{
 "cells": [
  {
   "cell_type": "code",
   "execution_count": 37,
   "metadata": {},
   "outputs": [],
   "source": [
    "import numpy as np\n",
    "from typing import List, Tuple\n",
    "from collections import deque"
   ]
  },
  {
   "cell_type": "code",
   "execution_count": 5,
   "metadata": {},
   "outputs": [],
   "source": [
    "def parse_input(input_file: str) -> np.array:\n",
    "    with open(input_file, \"r\") as file:\n",
    "        char_array = None\n",
    "\n",
    "        for line in file:\n",
    "            line_chars = list(line.strip()) \n",
    "            line_array = np.array(line_chars)\n",
    "\n",
    "            # first line: assignment\n",
    "            if char_array is None:\n",
    "                char_array = line_array\n",
    "            # 2nd to nth line: append to existing 2d-array\n",
    "            else:\n",
    "                char_array = np.vstack((char_array, line_array))\n",
    "\n",
    "    #print(char_array)\n",
    "    return char_array"
   ]
  },
  {
   "cell_type": "code",
   "execution_count": 6,
   "metadata": {},
   "outputs": [
    {
     "data": {
      "text/plain": [
       "array([['7', '-', 'F', '7', '-'],\n",
       "       ['.', 'F', 'J', '|', '7'],\n",
       "       ['S', 'J', 'L', 'L', '7'],\n",
       "       ['|', 'F', '-', '-', 'J'],\n",
       "       ['L', 'J', '.', 'L', 'J']], dtype='<U1')"
      ]
     },
     "execution_count": 6,
     "metadata": {},
     "output_type": "execute_result"
    }
   ],
   "source": [
    "parse_input('example.txt')"
   ]
  },
  {
   "cell_type": "code",
   "execution_count": 7,
   "metadata": {},
   "outputs": [],
   "source": [
    "# | is a vertical pipe connecting north and south.\n",
    "# - is a horizontal pipe connecting east and west.\n",
    "# L is a 90-degree bend connecting north and east.\n",
    "# J is a 90-degree bend connecting north and west.\n",
    "# 7 is a 90-degree bend connecting south and west.\n",
    "# F is a 90-degree bend connecting south and east."
   ]
  },
  {
   "cell_type": "code",
   "execution_count": 8,
   "metadata": {},
   "outputs": [],
   "source": [
    "def get_next_direction(pipe_array: np.array, entry_direction: str, row_index: int, col_index: int) -> Tuple[int, int]:\n",
    "    current_pipe = pipe_array[row_index, col_index]\n",
    "    #print(f\"Action, current_pipe: {current_pipe}, entry_direction: {entry_direction}, current_row_index: {row_index}, current_col_index: {col_index}\")\n",
    "    if current_pipe == \"|\" and entry_direction == \"up\":\n",
    "        return \"up\"\n",
    "    elif current_pipe == \"|\" and entry_direction == \"down\":\n",
    "        return \"down\"\n",
    "    elif current_pipe == \"-\" and entry_direction == \"right\":\n",
    "        return \"right\"\n",
    "    elif current_pipe == \"-\" and entry_direction == \"left\":\n",
    "        return \"left\"\n",
    "    elif current_pipe == \"L\" and entry_direction == \"down\":\n",
    "        return \"right\"\n",
    "    elif current_pipe == \"L\" and entry_direction == \"left\":\n",
    "        return \"up\"\n",
    "    elif current_pipe == \"J\" and entry_direction == \"right\":\n",
    "        return \"up\"\n",
    "    elif current_pipe == \"J\" and entry_direction == \"down\":\n",
    "        return \"left\"\n",
    "    elif current_pipe == \"7\" and entry_direction == \"up\":\n",
    "        return \"left\"\n",
    "    elif current_pipe == \"7\" and entry_direction == \"right\":\n",
    "        return \"down\"\n",
    "    elif current_pipe == \"F\" and entry_direction == \"up\":\n",
    "        return \"right\"\n",
    "    elif current_pipe == \"F\" and entry_direction == \"left\":\n",
    "        return \"down\"\n",
    "    else:\n",
    "        print(f\"Error, current_pipe: {current_pipe}, entry_direction: {entry_direction}, current_row_index: {row_index}, current_col_index: {col_index}\")"
   ]
  },
  {
   "cell_type": "code",
   "execution_count": 9,
   "metadata": {},
   "outputs": [],
   "source": [
    "def solve_part1(input_file: str) -> int:\n",
    "    pipe_array = parse_input(input_file)\n",
    "    pipe_array = np.pad(pipe_array, pad_width=1, constant_values='.')\n",
    "    #print(pipe_array)\n",
    "    count_array = np.zeros(pipe_array.shape, dtype=int) - 1\n",
    "    \n",
    "    row_indices, col_indices = np.where(pipe_array == 'S')\n",
    "    start_location = np.array([row_indices[0], col_indices[0]])\n",
    "\n",
    "    count_array[start_location[0], start_location[1]] = 0\n",
    "\n",
    "    move_difference = {\n",
    "        \"up\": (-1, 0),\n",
    "        \"down\": (1, 0),\n",
    "        \"left\": (0, -1),\n",
    "        \"right\": (0, 1)\n",
    "    }\n",
    "\n",
    "    # get neighbor field of S (look at this to find out if your S is also a \"F\") adjust first direction to your input\n",
    "    # start_field = pipe_array[start_location[0]-1:start_location[0]+2, start_location[1]-1:start_location[1]+2]\n",
    "    # print(start_field)\n",
    "    # start field in my example is \"F\", so I start by walking \"right\". \n",
    "    # You could also walk down I suppose and walk the circle in the other direction\n",
    "    current_location = start_location + move_difference[\"right\"]\n",
    "    current_direction = \"right\"\n",
    "    current_count = 1\n",
    "    count_array[current_location[0], current_location[1]] = current_count\n",
    "    # traverse loop\n",
    "    while pipe_array[current_location[0], current_location[1]] != \"S\":\n",
    "        current_direction = get_next_direction(pipe_array, current_direction, current_location[0], current_location[1])\n",
    "        current_location = current_location + move_difference[current_direction]\n",
    "        current_count += 1\n",
    "        count_array[current_location[0], current_location[1]] = current_count\n",
    "\n",
    "    print(\"Loop length\", current_count)\n",
    "    return current_count//2"
   ]
  },
  {
   "cell_type": "code",
   "execution_count": 10,
   "metadata": {},
   "outputs": [
    {
     "name": "stdout",
     "output_type": "stream",
     "text": [
      "Loop length 14194\n"
     ]
    },
    {
     "data": {
      "text/plain": [
       "7097"
      ]
     },
     "execution_count": 10,
     "metadata": {},
     "output_type": "execute_result"
    }
   ],
   "source": [
    "solve_part1('input.txt')"
   ]
  },
  {
   "cell_type": "code",
   "execution_count": 34,
   "metadata": {},
   "outputs": [],
   "source": [
    "# Define the patterns for each character\n",
    "patterns = {\n",
    "    'J': np.array([['.', 'O', '.'], \n",
    "                   ['O', 'O', '.'], \n",
    "                   ['.', '.', '.']]),\n",
    "    'L': np.array([['.', 'O', '.'], \n",
    "                   ['.', 'O', 'O'], \n",
    "                   ['.', '.', '.']]),\n",
    "    '7': np.array([['.', '.', '.'], \n",
    "                   ['O', 'O', '.'], \n",
    "                   ['.', 'O', '.']]),\n",
    "    'F': np.array([['.', '.', '.'], \n",
    "                   ['.', 'O', 'O'], \n",
    "                   ['.', 'O', '.']]),\n",
    "    '|': np.array([['.', 'O', '.'], \n",
    "                   ['.', 'O', '.'], \n",
    "                   ['.', 'O', '.']]),\n",
    "    '-': np.array([['.', '.', '.'], \n",
    "                   ['O', 'O', 'O'], \n",
    "                   ['.', '.', '.']]),\n",
    "    '.': np.array([['.', '.', '.'], \n",
    "                   ['.', '#', '.'], \n",
    "                   ['.', '.', '.']])\n",
    "}\n",
    "\n",
    "# Create a function to expand the array\n",
    "def expand_main_pipes(pipe_array: np.array, patterns) -> np.array:\n",
    "    # Initialize the expanded array with the correct size\n",
    "    expanded_array = np.empty((3 * pipe_array.shape[0], 3 * pipe_array.shape[1]), dtype=str)\n",
    "    \n",
    "    # Iterate through each entry in the original array\n",
    "    for i in range(pipe_array.shape[0]):\n",
    "        for j in range(pipe_array.shape[1]):\n",
    "            # Get the 3x3 pattern for the current entry\n",
    "            pattern = patterns.get(pipe_array[i, j], patterns['.'])\n",
    "            # Place the pattern in the expanded array\n",
    "            expanded_array[3*i:3*i+3, 3*j:3*j+3] = pattern\n",
    "            \n",
    "    return expanded_array\n"
   ]
  },
  {
   "cell_type": "code",
   "execution_count": 38,
   "metadata": {},
   "outputs": [],
   "source": [
    "def discard_outside_values(ext_pipe_array: np.array) -> np.array:\n",
    "        # Initialize a visited array of the same shape\n",
    "    visited = np.zeros_like(ext_pipe_array, dtype=bool)\n",
    "\n",
    "    # Initialize the queue with all edge coordinates\n",
    "    queue = deque()\n",
    "    for i in range(ext_pipe_array.shape[0]):\n",
    "        queue.append((i, 0))\n",
    "        queue.append((i, ext_pipe_array.shape[1] - 1))\n",
    "    for j in range(1, ext_pipe_array.shape[1] - 1):\n",
    "        queue.append((0, j))\n",
    "        queue.append((ext_pipe_array.shape[0] - 1, j))\n",
    "\n",
    "    # Perform depth-first search\n",
    "    while queue:\n",
    "        x, y = queue.popleft()\n",
    "\n",
    "        # Check if current position is within bounds and not visited\n",
    "        if 0 <= x < ext_pipe_array.shape[0] and 0 <= y < ext_pipe_array.shape[1] and not visited[x, y]:\n",
    "            visited[x, y] = True\n",
    "\n",
    "            # Add neighbors to the queue if they are not 'O'\n",
    "            if ext_pipe_array[x, y] != 'O':\n",
    "                for dx, dy in [(-1, 0), (1, 0), (0, -1), (0, 1)]:\n",
    "                    nx, ny = x + dx, y + dy\n",
    "                    if 0 <= nx < ext_pipe_array.shape[0] and 0 <= ny < ext_pipe_array.shape[1]:\n",
    "                        queue.append((nx, ny))\n",
    "\n",
    "    # Apply the visited mask to the original array (remove all # values not inside the loop)\n",
    "    ext_pipe_array[visited] = '.'\n",
    "\n",
    "    return ext_pipe_array"
   ]
  },
  {
   "cell_type": "code",
   "execution_count": 53,
   "metadata": {},
   "outputs": [],
   "source": [
    "def solve_part2(input_file: str) -> int:\n",
    "    pipe_array = parse_input(input_file)\n",
    "    pipe_array = np.pad(pipe_array, pad_width=1, constant_values='.')\n",
    "    #print(pipe_array)\n",
    "    mark_array = np.full(pipe_array.shape, \".\", dtype=str)\n",
    "    \n",
    "    row_indices, col_indices = np.where(pipe_array == 'S')\n",
    "    start_location = np.array([row_indices[0], col_indices[0]])\n",
    "\n",
    "    # note down all fields of the main loop (to discard all pipes not in the main loop)\n",
    "    # replace value here with what your \"S\" represents (see below code to check your start_field visually)\n",
    "    mark_array[start_location[0], start_location[1]] = \"F\"\n",
    "    \n",
    "\n",
    "    move_difference = {\n",
    "        \"up\": (-1, 0),\n",
    "        \"down\": (1, 0),\n",
    "        \"left\": (0, -1),\n",
    "        \"right\": (0, 1)\n",
    "    }\n",
    "\n",
    "    # get neighbor field of S (look at this to find out if your S is also a \"F\") adjust first direction to your input\n",
    "    start_field = pipe_array[start_location[0]-1:start_location[0]+2, start_location[1]-1:start_location[1]+2]\n",
    "    print(start_field)\n",
    "    # start field in my example is \"F\", so I start by walking \"right\". \n",
    "    # You could also walk down I suppose and walk the circle in the other direction\n",
    "    current_location = start_location + move_difference[\"right\"]\n",
    "    current_direction = \"right\"\n",
    "    # traverse loop\n",
    "    while pipe_array[current_location[0], current_location[1]] != \"S\":\n",
    "        mark_array[current_location[0], current_location[1]] = pipe_array[current_location[0], current_location[1]]\n",
    "        current_direction = get_next_direction(pipe_array, current_direction, current_location[0], current_location[1])\n",
    "        current_location = current_location + move_difference[current_direction]\n",
    "\n",
    "    #print(mark_array)\n",
    "    #print(mark_array[1:-1, 1:-1])\n",
    "    np.savetxt(\"mark_array.txt\", mark_array[1:-1, 1:-1], fmt=\"%s\")\n",
    "\n",
    "    expanded_array = expand_main_pipes(mark_array[1:-1, 1:-1], patterns)\n",
    "    #print(expanded_array)\n",
    "    np.savetxt(\"expanded_array.txt\", expanded_array, fmt=\"%s\")\n",
    "\n",
    "    cleaned_expanded_array = discard_outside_values(expanded_array)\n",
    "    #print(cleaned_expanded_array)\n",
    "    np.savetxt(\"cleaned_expanded_array.txt\", cleaned_expanded_array, fmt=\"%s\")\n",
    "    \n",
    "    # Count the occurrences of \"#\"\n",
    "    count_of_tiles = np.count_nonzero(cleaned_expanded_array == \"#\")\n",
    "\n",
    "    return count_of_tiles"
   ]
  },
  {
   "cell_type": "code",
   "execution_count": 56,
   "metadata": {},
   "outputs": [
    {
     "name": "stdout",
     "output_type": "stream",
     "text": [
      "[['.' '.' 'F']\n",
      " ['.' 'S' 'J']\n",
      " ['.' '|' 'F']]\n"
     ]
    },
    {
     "data": {
      "text/plain": [
       "1"
      ]
     },
     "execution_count": 56,
     "metadata": {},
     "output_type": "execute_result"
    }
   ],
   "source": [
    "solve_part2('example.txt')"
   ]
  },
  {
   "cell_type": "code",
   "execution_count": null,
   "metadata": {},
   "outputs": [],
   "source": []
  },
  {
   "cell_type": "code",
   "execution_count": null,
   "metadata": {},
   "outputs": [],
   "source": []
  }
 ],
 "metadata": {
  "kernelspec": {
   "display_name": "venv",
   "language": "python",
   "name": "python3"
  },
  "language_info": {
   "codemirror_mode": {
    "name": "ipython",
    "version": 3
   },
   "file_extension": ".py",
   "mimetype": "text/x-python",
   "name": "python",
   "nbconvert_exporter": "python",
   "pygments_lexer": "ipython3",
   "version": "3.11.3"
  }
 },
 "nbformat": 4,
 "nbformat_minor": 2
}
