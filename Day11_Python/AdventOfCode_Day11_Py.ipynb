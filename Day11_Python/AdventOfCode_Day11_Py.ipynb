{
 "cells": [
  {
   "cell_type": "code",
   "execution_count": 33,
   "metadata": {},
   "outputs": [],
   "source": [
    "import numpy as np\n",
    "from typing import List"
   ]
  },
  {
   "cell_type": "markdown",
   "metadata": {},
   "source": [
    "# Part 1"
   ]
  },
  {
   "cell_type": "markdown",
   "metadata": {},
   "source": [
    "The researcher is trying to figure out the sum of the lengths of the shortest path between every pair of galaxies\n",
    "\n",
    "(Tip: Given 9 galaxies, there are 36 pairs.)\n",
    "\n",
    "In fact, the result is that any rows or columns that contain no galaxies should all actually be twice as big. (double these rows/columns)"
   ]
  },
  {
   "cell_type": "code",
   "execution_count": 34,
   "metadata": {},
   "outputs": [],
   "source": [
    "def parse_input(input_file: str) -> np.array:\n",
    "    with open(input_file, \"r\") as file:\n",
    "        char_array = None\n",
    "\n",
    "        for line in file:\n",
    "            line_chars = list(line.strip()) \n",
    "            line_array = np.array(line_chars)\n",
    "\n",
    "            # first line: assignment\n",
    "            if char_array is None:\n",
    "                char_array = line_array\n",
    "            # 2nd to nth line: append to existing 2d-array\n",
    "            else:\n",
    "                char_array = np.vstack((char_array, line_array))\n",
    "\n",
    "    #print(char_array)\n",
    "    return char_array"
   ]
  },
  {
   "cell_type": "code",
   "execution_count": 35,
   "metadata": {},
   "outputs": [],
   "source": [
    "def expand_galaxy(input_galaxy: np.array) -> np.array:\n",
    "    # Duplicate rows containing only \".\"\n",
    "    row_indices_to_duplicate = [i for i in range(input_galaxy.shape[0]) if np.all(input_galaxy[i] == '.')]\n",
    "    duplicated_rows = np.insert(input_galaxy, row_indices_to_duplicate, input_galaxy[row_indices_to_duplicate], axis=0)\n",
    "\n",
    "    # Duplicate columns containing only \".\"\n",
    "    col_indices_to_duplicate = [j for j in range(input_galaxy.shape[1]) if np.all(input_galaxy[:, j] == '.')]\n",
    "    duplicated_columns = np.insert(duplicated_rows, col_indices_to_duplicate, duplicated_rows[:, col_indices_to_duplicate], axis=1)\n",
    "\n",
    "    return duplicated_columns"
   ]
  },
  {
   "cell_type": "code",
   "execution_count": 36,
   "metadata": {},
   "outputs": [],
   "source": [
    "def solve_part1(input_file: str) -> int:\n",
    "    char_array = parse_input(input_file)\n",
    "    expanded_array = expand_galaxy(char_array)\n",
    "    print(expanded_array)\n",
    "\n",
    "    row_indices, column_indices = np.where(expanded_array == '#')\n",
    "    galaxy_locations = list(zip(row_indices, column_indices))\n",
    "\n",
    "    distance_sum = 0\n",
    "\n",
    "    for i, galaxy_loc in enumerate(galaxy_locations):\n",
    "        for j, other_galaxy_loc in enumerate(galaxy_locations[i+1:]):\n",
    "            x_distance = galaxy_loc[0] - other_galaxy_loc[0]\n",
    "            y_distance = galaxy_loc[1] - other_galaxy_loc[1]\n",
    "            distance = abs(x_distance) + abs(y_distance)\n",
    "            distance_sum += distance\n",
    "    \n",
    "    return distance_sum"
   ]
  },
  {
   "cell_type": "code",
   "execution_count": 37,
   "metadata": {},
   "outputs": [
    {
     "name": "stdout",
     "output_type": "stream",
     "text": [
      "[['.' '.' '.' ... '.' '.' '.']\n",
      " ['.' '.' '.' ... '.' '.' '.']\n",
      " ['.' '.' '.' ... '.' '.' '.']\n",
      " ...\n",
      " ['.' '.' '.' ... '.' '.' '.']\n",
      " ['.' '.' '.' ... '.' '.' '.']\n",
      " ['.' '.' '.' ... '.' '.' '.']]\n"
     ]
    },
    {
     "data": {
      "text/plain": [
       "9648398"
      ]
     },
     "execution_count": 37,
     "metadata": {},
     "output_type": "execute_result"
    }
   ],
   "source": [
    "solve_part1('input.txt')"
   ]
  },
  {
   "cell_type": "markdown",
   "metadata": {},
   "source": [
    "## Part 2"
   ]
  },
  {
   "cell_type": "code",
   "execution_count": 38,
   "metadata": {},
   "outputs": [],
   "source": [
    "def calc_expanded_distance(x_1: int, x_2: int, row_indices_to_expand: List[int], factor: int) -> int:\n",
    "    min_x = min(x_1, x_2)\n",
    "    max_x = max(x_1, x_2)\n",
    "    distance = 0\n",
    "    for x in range(min_x+1, max_x+1):\n",
    "        if x in row_indices_to_expand:\n",
    "            distance += factor\n",
    "        else: \n",
    "            distance += 1\n",
    "    return distance\n"
   ]
  },
  {
   "cell_type": "code",
   "execution_count": 39,
   "metadata": {},
   "outputs": [],
   "source": [
    "def solve_part2(input_file: str, factor: int) -> int:\n",
    "    input_galaxy = parse_input(input_file)\n",
    "\n",
    "    row_indices_to_expand = [i for i in range(input_galaxy.shape[0]) if np.all(input_galaxy[i] == '.')]\n",
    "    col_indices_to_expand = [j for j in range(input_galaxy.shape[1]) if np.all(input_galaxy[:, j] == '.')]\n",
    "\n",
    "\n",
    "    row_indices, column_indices = np.where(input_galaxy == '#')\n",
    "    galaxy_locations = list(zip(row_indices, column_indices))\n",
    "\n",
    "    distance_sum = 0\n",
    "\n",
    "    for i, galaxy_loc in enumerate(galaxy_locations):\n",
    "        for j, other_galaxy_loc in enumerate(galaxy_locations[i+1:]):\n",
    "            x_distance = calc_expanded_distance(galaxy_loc[0], other_galaxy_loc[0], row_indices_to_expand, factor)\n",
    "            y_distance = calc_expanded_distance(galaxy_loc[1], other_galaxy_loc[1], col_indices_to_expand, factor)\n",
    "            distance = abs(x_distance) + abs(y_distance)\n",
    "            distance_sum += distance\n",
    "    \n",
    "    return distance_sum"
   ]
  },
  {
   "cell_type": "code",
   "execution_count": 40,
   "metadata": {},
   "outputs": [
    {
     "data": {
      "text/plain": [
       "82000210"
      ]
     },
     "execution_count": 40,
     "metadata": {},
     "output_type": "execute_result"
    }
   ],
   "source": [
    "solve_part2('example.txt', 1000000)"
   ]
  },
  {
   "cell_type": "code",
   "execution_count": null,
   "metadata": {},
   "outputs": [],
   "source": []
  }
 ],
 "metadata": {
  "kernelspec": {
   "display_name": "venv",
   "language": "python",
   "name": "python3"
  },
  "language_info": {
   "codemirror_mode": {
    "name": "ipython",
    "version": 3
   },
   "file_extension": ".py",
   "mimetype": "text/x-python",
   "name": "python",
   "nbconvert_exporter": "python",
   "pygments_lexer": "ipython3",
   "version": "3.11.3"
  }
 },
 "nbformat": 4,
 "nbformat_minor": 2
}
