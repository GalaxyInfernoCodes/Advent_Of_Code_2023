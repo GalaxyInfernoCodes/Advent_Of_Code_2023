{
 "cells": [
  {
   "cell_type": "code",
   "execution_count": 1,
   "metadata": {},
   "outputs": [],
   "source": [
    "import numpy as np"
   ]
  },
  {
   "cell_type": "markdown",
   "metadata": {},
   "source": [
    "# Part 1"
   ]
  },
  {
   "cell_type": "markdown",
   "metadata": {},
   "source": [
    "The researcher is trying to figure out the sum of the lengths of the shortest path between every pair of galaxies\n",
    "\n",
    "(Tip: Given 9 galaxies, there are 36 pairs.)\n",
    "\n",
    "In fact, the result is that any rows or columns that contain no galaxies should all actually be twice as big. (double these rows/columns)"
   ]
  },
  {
   "cell_type": "code",
   "execution_count": null,
   "metadata": {},
   "outputs": [],
   "source": [
    "def parse_input(input_file: str) -> np.array:\n",
    "    with open(input_file, \"r\") as file:\n",
    "        char_array = None\n",
    "\n",
    "        for line in file:\n",
    "            line_chars = list(line.strip()) \n",
    "            line_array = np.array(line_chars)\n",
    "\n",
    "            # first line: assignment\n",
    "            if char_array is None:\n",
    "                char_array = line_array\n",
    "            # 2nd to nth line: append to existing 2d-array\n",
    "            else:\n",
    "                char_array = np.vstack((char_array, line_array))\n",
    "\n",
    "    #print(char_array)\n",
    "    return char_array"
   ]
  }
 ],
 "metadata": {
  "kernelspec": {
   "display_name": "venv",
   "language": "python",
   "name": "python3"
  },
  "language_info": {
   "codemirror_mode": {
    "name": "ipython",
    "version": 3
   },
   "file_extension": ".py",
   "mimetype": "text/x-python",
   "name": "python",
   "nbconvert_exporter": "python",
   "pygments_lexer": "ipython3",
   "version": "3.11.3"
  }
 },
 "nbformat": 4,
 "nbformat_minor": 2
}
