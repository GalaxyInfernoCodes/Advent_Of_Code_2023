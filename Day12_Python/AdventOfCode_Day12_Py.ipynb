{
 "cells": [
  {
   "cell_type": "code",
   "execution_count": 4,
   "metadata": {},
   "outputs": [],
   "source": [
    "from typing import List\n",
    "import itertools\n",
    "from copy import copy\n",
    "from tqdm import tqdm\n",
    "import sys"
   ]
  },
  {
   "cell_type": "code",
   "execution_count": 5,
   "metadata": {},
   "outputs": [],
   "source": [
    "class SpringRow:\n",
    "    def __init__(self, row: str) -> None:\n",
    "        self.springs = row.split()[0]\n",
    "        self.counts = [int(count_entry) for count_entry in row.split()[1].split(',')]\n",
    "\n",
    "    def repair_springs(self) -> int:\n",
    "        count_solutions = 0\n",
    "\n",
    "        count_unknowns = self.springs.count(\"?\")\n",
    "        combinations = itertools.product(['.', '#'], repeat=count_unknowns)\n",
    "        for combination in combinations:\n",
    "            replacements = list(combination)\n",
    "            replacement_indices = [i for i, c in enumerate(self.springs) if c == \"?\"]\n",
    "            new_springs = list(copy(self.springs))\n",
    "            for loc, replacement in zip(replacement_indices, replacements):\n",
    "                new_springs[loc] = replacement\n",
    "            new_springs = \"\".join(new_springs)\n",
    "            #print(\"new springs\", new_springs)\n",
    "            if self.compare_to_counts(new_springs):\n",
    "                count_solutions += 1 \n",
    "\n",
    "        return count_solutions\n",
    "\n",
    "    def compare_to_counts(self, adjusted_springs: str) -> bool:\n",
    "        adjusted_springs = adjusted_springs.replace('.', ' ')\n",
    "        damaged_parts = adjusted_springs.split()\n",
    "        damaged_lengths = [len(part) for part in damaged_parts]\n",
    "        #print(\"damaged parts\", damaged_parts, \"damaged_lengths\", damaged_lengths)\n",
    "        return damaged_lengths == self.counts\n",
    "\n",
    "\n",
    "    def __repr__(self) -> str:\n",
    "        return f\"Springs: {self.springs} | Counts: {self.counts}\""
   ]
  },
  {
   "cell_type": "code",
   "execution_count": 6,
   "metadata": {},
   "outputs": [],
   "source": [
    "def solve_part1(input_file: str) -> int:\n",
    "    with open(input_file) as f:\n",
    "        spring_rows = [SpringRow(line) for line in f.readlines()]\n",
    "    \n",
    "    sum_of_options = 0\n",
    "\n",
    "    for spring in spring_rows:\n",
    "        #print(spring)\n",
    "        options = spring.repair_springs()\n",
    "        #print(options)\n",
    "        sum_of_options += options\n",
    "    return sum_of_options"
   ]
  },
  {
   "cell_type": "code",
   "execution_count": 7,
   "metadata": {},
   "outputs": [
    {
     "data": {
      "text/plain": [
       "21"
      ]
     },
     "execution_count": 7,
     "metadata": {},
     "output_type": "execute_result"
    }
   ],
   "source": [
    "solve_part1('example.txt')"
   ]
  },
  {
   "cell_type": "markdown",
   "metadata": {},
   "source": [
    "## Part 2"
   ]
  },
  {
   "cell_type": "code",
   "execution_count": 16,
   "metadata": {},
   "outputs": [],
   "source": [
    "class SpringRow2:\n",
    "    def __init__(self, row: str) -> None:\n",
    "        self.springs = row.split()[0]\n",
    "        self.counts = [int(count_entry) for count_entry in row.split()[1].split(',')]\n",
    "\n",
    "    def fill_springs_manually(self) -> None:\n",
    "        max_defective_springs = max(self.counts)\n",
    "        cur_streak = 0\n",
    "        # fill with '.' for every '?' over the max possible length\n",
    "        for index, entry in enumerate(self.springs):\n",
    "            if entry == '#':\n",
    "                cur_streak += 1\n",
    "            elif entry == '.':\n",
    "                cur_streak = 0\n",
    "            elif entry == '?' and cur_streak == max_defective_springs:\n",
    "                self.springs = self.springs[:index] + '.' + self.springs[index+1:]\n",
    "                cur_streak = 0\n",
    "        # fill with '#' for long start and end sequences\n",
    "        start_index = self.counts[0]\n",
    "        start_filling = False\n",
    "        for index, entry in enumerate(self.springs[:start_index]):\n",
    "            if entry == '#':\n",
    "                start_filling = True\n",
    "            if start_filling and entry == '?':\n",
    "                self.springs = self.springs[:index] + '#' + self.springs[index+1:]\n",
    "        end_index = self.counts[-1]\n",
    "        start_filling = False\n",
    "        for index in range(len(self.springs)-1, len(self.springs)-end_index-1, -1):\n",
    "            entry = self.springs[index]\n",
    "            if entry == '#':\n",
    "                start_filling = True\n",
    "            if start_filling and entry == '?':\n",
    "                self.springs = self.springs[:index] + '#' + self.springs[index+1:]\n",
    "\n",
    "\n",
    "    def repair_springs(self) -> int:\n",
    "        count_solutions = 0\n",
    "        print(\"Original spring\", self.springs)\n",
    "\n",
    "        count_unknowns = self.springs.count(\"?\")\n",
    "        print(\"count unknowns\", count_unknowns)\n",
    "\n",
    "        print(\"Manual filling\")\n",
    "        self.fill_springs_manually()\n",
    "        print(self)\n",
    "\n",
    "        count_unknowns = self.springs.count(\"?\")\n",
    "        print(\"after filling count unknowns\", count_unknowns)\n",
    "\n",
    "        combinations = itertools.product(['.', '#'], repeat=count_unknowns)\n",
    "        nr_existing_damages = self.springs.count('#')\n",
    "        #print(\"all possible combinations\", len(list(combinations)))\n",
    "        filtered_combinations = [combination for combination in combinations if combination.count('#') == (sum(self.counts)-nr_existing_damages)]\n",
    "        print(\"Found combinations:\", len(filtered_combinations))\n",
    "        # for combination in tqdm(filtered_combinations, desc=\"combinations\", total=len(filtered_combinations), file=sys.stdout):\n",
    "        #     replacements = list(combination)\n",
    "        #     #print(\"replacements\", replacements)\n",
    "        #     replacement_indices = [i for i, c in enumerate(self.springs) if c == \"?\"]\n",
    "        #     new_springs = list(copy(self.springs))\n",
    "        #     for loc, replacement in zip(replacement_indices, replacements):\n",
    "        #         new_springs[loc] = replacement\n",
    "        #     new_springs = \"\".join(new_springs)\n",
    "        #     #print(\"new springs\", new_springs)\n",
    "        #     if self.compare_to_counts(new_springs):\n",
    "        #         count_solutions += 1 \n",
    "\n",
    "        return count_solutions\n",
    "    \n",
    "    def expand_springs(self) -> None:\n",
    "        new_springs = \"?\".join([self.springs] * 5)\n",
    "        self.springs = new_springs\n",
    "        new_counts = self.counts * 5\n",
    "        self.counts = new_counts\n",
    "\n",
    "    def compare_to_counts(self, adjusted_springs: str) -> bool:\n",
    "        adjusted_springs = adjusted_springs.replace('.', ' ')\n",
    "        damaged_parts = adjusted_springs.split()\n",
    "        damaged_lengths = [len(part) for part in damaged_parts]\n",
    "        #print(\"damaged parts\", damaged_parts, \"damaged_lengths\", damaged_lengths)\n",
    "        return damaged_lengths == self.counts\n",
    "\n",
    "\n",
    "    def __repr__(self) -> str:\n",
    "        return f\"Springs: {self.springs} | Counts: {self.counts}\""
   ]
  },
  {
   "cell_type": "code",
   "execution_count": 17,
   "metadata": {},
   "outputs": [],
   "source": [
    "def solve_part2(input_file: str) -> int:\n",
    "    with open(input_file) as f:\n",
    "        spring_rows = [SpringRow2(line) for line in f.readlines()]\n",
    "    \n",
    "    sum_of_options = 0\n",
    "\n",
    "    for spring in tqdm(spring_rows):\n",
    "        spring.expand_springs()\n",
    "        #print(spring)\n",
    "        options = spring.repair_springs()\n",
    "        #print(options)\n",
    "        sum_of_options += options\n",
    "    return sum_of_options"
   ]
  },
  {
   "cell_type": "code",
   "execution_count": 18,
   "metadata": {},
   "outputs": [
    {
     "name": "stderr",
     "output_type": "stream",
     "text": [
      "  0%|          | 0/6 [00:00<?, ?it/s]"
     ]
    },
    {
     "name": "stdout",
     "output_type": "stream",
     "text": [
      "Original spring ???.###????.###????.###????.###????.###\n",
      "count unknowns 19\n",
      "Manual filling\n",
      "Springs: ???.###.???.###.???.###.???.###.???.### | Counts: [1, 1, 3, 1, 1, 3, 1, 1, 3, 1, 1, 3, 1, 1, 3]\n",
      "after filling count unknowns 15\n",
      "Found combinations: 3003\n",
      "Original spring .??..??...?##.?.??..??...?##.?.??..??...?##.?.??..??...?##.?.??..??...?##.\n",
      "count unknowns 29\n",
      "Manual filling\n",
      "Springs: .??..??...?##.?.??..??...?##.?.??..??...?##.?.??..??...?##.?.??..??...?##. | Counts: [1, 1, 3, 1, 1, 3, 1, 1, 3, 1, 1, 3, 1, 1, 3]\n",
      "after filling count unknowns 29\n"
     ]
    },
    {
     "name": "stderr",
     "output_type": "stream",
     "text": [
      " 17%|█▋        | 1/6 [00:19<01:39, 19.91s/it]\n"
     ]
    },
    {
     "ename": "KeyboardInterrupt",
     "evalue": "",
     "output_type": "error",
     "traceback": [
      "\u001b[0;31m---------------------------------------------------------------------------\u001b[0m",
      "\u001b[0;31mKeyboardInterrupt\u001b[0m                         Traceback (most recent call last)",
      "Cell \u001b[0;32mIn[18], line 1\u001b[0m\n\u001b[0;32m----> 1\u001b[0m \u001b[43msolve_part2\u001b[49m\u001b[43m(\u001b[49m\u001b[38;5;124;43m'\u001b[39;49m\u001b[38;5;124;43mexample.txt\u001b[39;49m\u001b[38;5;124;43m'\u001b[39;49m\u001b[43m)\u001b[49m\n",
      "Cell \u001b[0;32mIn[17], line 10\u001b[0m, in \u001b[0;36msolve_part2\u001b[0;34m(input_file)\u001b[0m\n\u001b[1;32m      8\u001b[0m spring\u001b[38;5;241m.\u001b[39mexpand_springs()\n\u001b[1;32m      9\u001b[0m \u001b[38;5;66;03m#print(spring)\u001b[39;00m\n\u001b[0;32m---> 10\u001b[0m options \u001b[38;5;241m=\u001b[39m \u001b[43mspring\u001b[49m\u001b[38;5;241;43m.\u001b[39;49m\u001b[43mrepair_springs\u001b[49m\u001b[43m(\u001b[49m\u001b[43m)\u001b[49m\n\u001b[1;32m     11\u001b[0m \u001b[38;5;66;03m#print(options)\u001b[39;00m\n\u001b[1;32m     12\u001b[0m sum_of_options \u001b[38;5;241m+\u001b[39m\u001b[38;5;241m=\u001b[39m options\n",
      "Cell \u001b[0;32mIn[16], line 53\u001b[0m, in \u001b[0;36mSpringRow2.repair_springs\u001b[0;34m(self)\u001b[0m\n\u001b[1;32m     51\u001b[0m nr_existing_damages \u001b[38;5;241m=\u001b[39m \u001b[38;5;28mself\u001b[39m\u001b[38;5;241m.\u001b[39msprings\u001b[38;5;241m.\u001b[39mcount(\u001b[38;5;124m'\u001b[39m\u001b[38;5;124m#\u001b[39m\u001b[38;5;124m'\u001b[39m)\n\u001b[1;32m     52\u001b[0m \u001b[38;5;66;03m#print(\"all possible combinations\", len(list(combinations)))\u001b[39;00m\n\u001b[0;32m---> 53\u001b[0m filtered_combinations \u001b[38;5;241m=\u001b[39m \u001b[43m[\u001b[49m\u001b[43mcombination\u001b[49m\u001b[43m \u001b[49m\u001b[38;5;28;43;01mfor\u001b[39;49;00m\u001b[43m \u001b[49m\u001b[43mcombination\u001b[49m\u001b[43m \u001b[49m\u001b[38;5;129;43;01min\u001b[39;49;00m\u001b[43m \u001b[49m\u001b[43mcombinations\u001b[49m\u001b[43m \u001b[49m\u001b[38;5;28;43;01mif\u001b[39;49;00m\u001b[43m \u001b[49m\u001b[43mcombination\u001b[49m\u001b[38;5;241;43m.\u001b[39;49m\u001b[43mcount\u001b[49m\u001b[43m(\u001b[49m\u001b[38;5;124;43m'\u001b[39;49m\u001b[38;5;124;43m#\u001b[39;49m\u001b[38;5;124;43m'\u001b[39;49m\u001b[43m)\u001b[49m\u001b[43m \u001b[49m\u001b[38;5;241;43m==\u001b[39;49m\u001b[43m \u001b[49m\u001b[43m(\u001b[49m\u001b[38;5;28;43msum\u001b[39;49m\u001b[43m(\u001b[49m\u001b[38;5;28;43mself\u001b[39;49m\u001b[38;5;241;43m.\u001b[39;49m\u001b[43mcounts\u001b[49m\u001b[43m)\u001b[49m\u001b[38;5;241;43m-\u001b[39;49m\u001b[43mnr_existing_damages\u001b[49m\u001b[43m)\u001b[49m\u001b[43m]\u001b[49m\n\u001b[1;32m     54\u001b[0m \u001b[38;5;28mprint\u001b[39m(\u001b[38;5;124m\"\u001b[39m\u001b[38;5;124mFound combinations:\u001b[39m\u001b[38;5;124m\"\u001b[39m, \u001b[38;5;28mlen\u001b[39m(filtered_combinations))\n\u001b[1;32m     55\u001b[0m \u001b[38;5;66;03m# for combination in tqdm(filtered_combinations, desc=\"combinations\", total=len(filtered_combinations), file=sys.stdout):\u001b[39;00m\n\u001b[1;32m     56\u001b[0m \u001b[38;5;66;03m#     replacements = list(combination)\u001b[39;00m\n\u001b[1;32m     57\u001b[0m \u001b[38;5;66;03m#     #print(\"replacements\", replacements)\u001b[39;00m\n\u001b[0;32m   (...)\u001b[0m\n\u001b[1;32m     64\u001b[0m \u001b[38;5;66;03m#     if self.compare_to_counts(new_springs):\u001b[39;00m\n\u001b[1;32m     65\u001b[0m \u001b[38;5;66;03m#         count_solutions += 1 \u001b[39;00m\n",
      "Cell \u001b[0;32mIn[16], line 53\u001b[0m, in \u001b[0;36m<listcomp>\u001b[0;34m(.0)\u001b[0m\n\u001b[1;32m     51\u001b[0m nr_existing_damages \u001b[38;5;241m=\u001b[39m \u001b[38;5;28mself\u001b[39m\u001b[38;5;241m.\u001b[39msprings\u001b[38;5;241m.\u001b[39mcount(\u001b[38;5;124m'\u001b[39m\u001b[38;5;124m#\u001b[39m\u001b[38;5;124m'\u001b[39m)\n\u001b[1;32m     52\u001b[0m \u001b[38;5;66;03m#print(\"all possible combinations\", len(list(combinations)))\u001b[39;00m\n\u001b[0;32m---> 53\u001b[0m filtered_combinations \u001b[38;5;241m=\u001b[39m [combination \u001b[38;5;28;01mfor\u001b[39;00m combination \u001b[38;5;129;01min\u001b[39;00m combinations \u001b[38;5;28;01mif\u001b[39;00m combination\u001b[38;5;241m.\u001b[39mcount(\u001b[38;5;124m'\u001b[39m\u001b[38;5;124m#\u001b[39m\u001b[38;5;124m'\u001b[39m) \u001b[38;5;241m==\u001b[39m (\u001b[38;5;28msum\u001b[39m(\u001b[38;5;28mself\u001b[39m\u001b[38;5;241m.\u001b[39mcounts)\u001b[38;5;241m-\u001b[39mnr_existing_damages)]\n\u001b[1;32m     54\u001b[0m \u001b[38;5;28mprint\u001b[39m(\u001b[38;5;124m\"\u001b[39m\u001b[38;5;124mFound combinations:\u001b[39m\u001b[38;5;124m\"\u001b[39m, \u001b[38;5;28mlen\u001b[39m(filtered_combinations))\n\u001b[1;32m     55\u001b[0m \u001b[38;5;66;03m# for combination in tqdm(filtered_combinations, desc=\"combinations\", total=len(filtered_combinations), file=sys.stdout):\u001b[39;00m\n\u001b[1;32m     56\u001b[0m \u001b[38;5;66;03m#     replacements = list(combination)\u001b[39;00m\n\u001b[1;32m     57\u001b[0m \u001b[38;5;66;03m#     #print(\"replacements\", replacements)\u001b[39;00m\n\u001b[0;32m   (...)\u001b[0m\n\u001b[1;32m     64\u001b[0m \u001b[38;5;66;03m#     if self.compare_to_counts(new_springs):\u001b[39;00m\n\u001b[1;32m     65\u001b[0m \u001b[38;5;66;03m#         count_solutions += 1 \u001b[39;00m\n",
      "\u001b[0;31mKeyboardInterrupt\u001b[0m: "
     ]
    }
   ],
   "source": [
    "solve_part2('example.txt')"
   ]
  },
  {
   "cell_type": "code",
   "execution_count": null,
   "metadata": {},
   "outputs": [],
   "source": []
  },
  {
   "cell_type": "code",
   "execution_count": null,
   "metadata": {},
   "outputs": [],
   "source": []
  }
 ],
 "metadata": {
  "kernelspec": {
   "display_name": "venv",
   "language": "python",
   "name": "python3"
  },
  "language_info": {
   "codemirror_mode": {
    "name": "ipython",
    "version": 3
   },
   "file_extension": ".py",
   "mimetype": "text/x-python",
   "name": "python",
   "nbconvert_exporter": "python",
   "pygments_lexer": "ipython3",
   "version": "3.11.3"
  }
 },
 "nbformat": 4,
 "nbformat_minor": 2
}
