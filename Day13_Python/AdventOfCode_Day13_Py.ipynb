{
 "cells": [
  {
   "cell_type": "code",
   "execution_count": 27,
   "metadata": {},
   "outputs": [],
   "source": [
    "import numpy as np\n",
    "from typing import List"
   ]
  },
  {
   "cell_type": "code",
   "execution_count": 78,
   "metadata": {},
   "outputs": [],
   "source": [
    "def parse_input(input_file: str) -> List[np.array]:\n",
    "    list_of_grids = []\n",
    "    with open(input_file, \"r\") as file:\n",
    "        grid_array = None\n",
    "\n",
    "        for line in file:\n",
    "            line_chars = list(line.strip()) \n",
    "            #print(f\"Line: {line_chars}, lenght: {len(line_chars)}\")\n",
    "            if len(line_chars) == 0:\n",
    "                list_of_grids.append(grid_array)\n",
    "                grid_array = None\n",
    "                continue\n",
    "            line_array = np.array(line_chars)\n",
    "\n",
    "            # first line: assignment\n",
    "            if grid_array is None:\n",
    "                grid_array = line_array\n",
    "            # 2nd to nth line: append to existing 2d-array\n",
    "            else:\n",
    "                grid_array = np.vstack((grid_array, line_array))\n",
    "\n",
    "    #print(char_array)\n",
    "    return list_of_grids\n",
    "\n",
    "def check_col_symmetry(grid: np.array) -> int:\n",
    "    for col_index in range(1, grid.shape[1]):\n",
    "        size_to_compare = min(col_index, grid.shape[1] - col_index)\n",
    "        if np.array_equal(grid[:, col_index - size_to_compare:col_index], np.flip(grid[:, col_index:col_index + size_to_compare], axis=1)):\n",
    "            return col_index\n",
    "    return 0\n",
    "\n",
    "def check_row_symmetry(grid: np.array) -> int:\n",
    "    for row_index in range(1, grid.shape[0]):\n",
    "        size_to_compare = min(row_index, grid.shape[0] - row_index)\n",
    "        if np.array_equal(grid[row_index - size_to_compare:row_index, :], np.flip(grid[row_index:row_index + size_to_compare, :], axis=0)):\n",
    "            return row_index\n",
    "    return 0\n",
    "\n",
    "\n",
    "def find_smudge_location(grid: np.array) -> np.array:\n",
    "    # columns\n",
    "    for col_index in range(1, grid.shape[1]):\n",
    "        size_to_compare = min(col_index, grid.shape[1] - col_index)\n",
    "        num_different_entries = np.count_nonzero(grid[:, col_index - size_to_compare:col_index] != np.flip(grid[:, col_index:col_index + size_to_compare], axis=1))\n",
    "        if num_different_entries == 1:\n",
    "            return col_index\n",
    "    # rows \n",
    "    for row_index in range(1, grid.shape[0]):\n",
    "        size_to_compare = min(row_index, grid.shape[0] - row_index)\n",
    "        num_different_entries = np.count_nonzero(grid[row_index - size_to_compare:row_index, :] != np.flip(grid[row_index:row_index + size_to_compare, :], axis=0))\n",
    "        if num_different_entries == 1:\n",
    "            return row_index*100"
   ]
  },
  {
   "cell_type": "code",
   "execution_count": 79,
   "metadata": {},
   "outputs": [],
   "source": [
    "def solve_part1(input_file: str) -> int:\n",
    "    list_of_grids = parse_input(input_file)\n",
    "\n",
    "    symmetry_sum = 0\n",
    "\n",
    "    for grid in list_of_grids:\n",
    "        col_reflections = check_col_symmetry(grid)\n",
    "        #print(\"col\", col_reflections)\n",
    "        row_reflections = check_row_symmetry(grid)\n",
    "        #print(\"row\", row_reflections)\n",
    "        symmetry_sum += col_reflections + 100*row_reflections\n",
    "    return symmetry_sum"
   ]
  },
  {
   "cell_type": "code",
   "execution_count": 80,
   "metadata": {},
   "outputs": [
    {
     "data": {
      "text/plain": [
       "405"
      ]
     },
     "execution_count": 80,
     "metadata": {},
     "output_type": "execute_result"
    }
   ],
   "source": [
    "solve_part1('example.txt')"
   ]
  },
  {
   "cell_type": "code",
   "execution_count": 82,
   "metadata": {},
   "outputs": [],
   "source": [
    "def solve_part2(input_file: str) -> int:\n",
    "    list_of_grids = parse_input(input_file)\n",
    "\n",
    "    symmetry_sum = 0\n",
    "\n",
    "    for grid in list_of_grids:\n",
    "        symmetry_value = find_smudge_location(grid)\n",
    "        symmetry_sum += symmetry_value\n",
    "    return symmetry_sum"
   ]
  },
  {
   "cell_type": "code",
   "execution_count": 83,
   "metadata": {},
   "outputs": [
    {
     "data": {
      "text/plain": [
       "400"
      ]
     },
     "execution_count": 83,
     "metadata": {},
     "output_type": "execute_result"
    }
   ],
   "source": [
    "solve_part2('example.txt')"
   ]
  },
  {
   "cell_type": "code",
   "execution_count": null,
   "metadata": {},
   "outputs": [],
   "source": []
  }
 ],
 "metadata": {
  "kernelspec": {
   "display_name": "venv",
   "language": "python",
   "name": "python3"
  },
  "language_info": {
   "codemirror_mode": {
    "name": "ipython",
    "version": 3
   },
   "file_extension": ".py",
   "mimetype": "text/x-python",
   "name": "python",
   "nbconvert_exporter": "python",
   "pygments_lexer": "ipython3",
   "version": "3.11.3"
  }
 },
 "nbformat": 4,
 "nbformat_minor": 2
}
