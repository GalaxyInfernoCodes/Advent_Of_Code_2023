{
 "cells": [
  {
   "cell_type": "code",
   "execution_count": 1,
   "metadata": {},
   "outputs": [],
   "source": [
    "import numpy as np\n",
    "from tqdm import tqdm\n",
    "from copy import copy"
   ]
  },
  {
   "cell_type": "code",
   "execution_count": 2,
   "metadata": {},
   "outputs": [],
   "source": [
    "def parse_input(input_file: str) -> np.array:\n",
    "    with open(input_file, \"r\") as file:\n",
    "        grid_array = None\n",
    "\n",
    "        for line in file:\n",
    "            line_chars = list(line.strip()) \n",
    "            #print(f\"Line: {line_chars}, lenght: {len(line_chars)}\")\n",
    "\n",
    "            line_array = np.array(line_chars)\n",
    "\n",
    "            # first line: assignment\n",
    "            if grid_array is None:\n",
    "                grid_array = line_array\n",
    "            # 2nd to nth line: append to existing 2d-array\n",
    "            else:\n",
    "                grid_array = np.vstack((grid_array, line_array))\n",
    "\n",
    "    return grid_array\n",
    "\n",
    "\n",
    "def find_empty_index(rock_array: np.array, row_index: int, col_index: int) -> int:\n",
    "    for row in range(row_index-1, -1, -1):\n",
    "        if rock_array[row, col_index] == 'O' or rock_array[row, col_index] == '#':\n",
    "            return row+1\n",
    "    return 0\n",
    "\n",
    "\n",
    "def sort_rock_string(input_str: str) -> str:\n",
    "    parts = input_str.split('#')\n",
    "    sorted_parts = [''.join(sorted(part, key=lambda x: x!= 'O')) for part in parts]\n",
    "    return '#'.join(sorted_parts)\n",
    "\n",
    "def roll_direction(rock_array: np.array, direction: str = \"north\") -> np.array:\n",
    "    if direction in ['north', 'south']:\n",
    "        for col in range(rock_array.shape[1]):\n",
    "            if direction == 'north':\n",
    "                column = \"\".join(rock_array[:, col])\n",
    "                fixed_column = sort_rock_string(column)\n",
    "                rock_array[:, col] = list(fixed_column)\n",
    "            elif direction == 'south':\n",
    "                column = \"\".join(rock_array[:, col][::-1])\n",
    "                fixed_column = sort_rock_string(column)\n",
    "                rock_array[:, col] = list(fixed_column)[::-1]\n",
    "    if direction in ['east', 'west']:\n",
    "        for row_index in range(rock_array.shape[0]):\n",
    "            if direction == 'east':\n",
    "                row = \"\".join(rock_array[row_index, :][::-1])\n",
    "                fixed_row = sort_rock_string(row)\n",
    "                rock_array[row_index, :] = list(fixed_row)[::-1]\n",
    "            elif direction == 'west':\n",
    "                row = \"\".join(rock_array[row_index, :])\n",
    "                fixed_row = sort_rock_string(row)\n",
    "                rock_array[row_index, :] = list(fixed_row)\n",
    "    return rock_array\n",
    "\n",
    "def calculate_north_load(rock_array: np.array) -> int:\n",
    "    coordinates = np.where(rock_array == 'O')\n",
    "    total_load = 0\n",
    "    for row in coordinates[0]:\n",
    "        total_load += abs(row - rock_array.shape[0])\n",
    "    return total_load"
   ]
  },
  {
   "cell_type": "code",
   "execution_count": 3,
   "metadata": {},
   "outputs": [],
   "source": [
    "def solve_part1(input_file: str) -> int:\n",
    "    rock_array = parse_input(input_file)\n",
    "    #print(rock_array)\n",
    "    rock_array = roll_direction(rock_array, \"north\")\n",
    "    #print(rock_array)\n",
    "    total_load = calculate_north_load(rock_array)\n",
    "    return total_load"
   ]
  },
  {
   "cell_type": "code",
   "execution_count": 127,
   "metadata": {},
   "outputs": [
    {
     "data": {
      "text/plain": [
       "136"
      ]
     },
     "execution_count": 127,
     "metadata": {},
     "output_type": "execute_result"
    }
   ],
   "source": [
    "solve_part1('example.txt')"
   ]
  },
  {
   "cell_type": "code",
   "execution_count": 124,
   "metadata": {},
   "outputs": [],
   "source": [
    "def solve_part2(input_file: str) -> int:\n",
    "    rock_array = parse_input(input_file)\n",
    "    target_cycles = 1000000000\n",
    "    past_rock_arrays = [copy(rock_array)]\n",
    "    values = [calculate_north_load(rock_array)]\n",
    "    for current_cycle in range(1, target_cycles+1):\n",
    "        rock_array = roll_direction(rock_array, \"north\")\n",
    "        rock_array = roll_direction(rock_array, \"west\")\n",
    "        rock_array = roll_direction(rock_array, \"south\")\n",
    "        rock_array = roll_direction(rock_array, \"east\")\n",
    "        values.append(calculate_north_load(rock_array))\n",
    "        for index, past_array in enumerate(past_rock_arrays):\n",
    "            if np.array_equal(rock_array, past_array):\n",
    "                cycle_start = index \n",
    "                cycle_length = current_cycle - cycle_start\n",
    "                print(f\"cycle start: index {cycle_start}, cycle length: {cycle_length}\")\n",
    "                print(f\"found repeat at cycle {current_cycle}, target repeats from {((target_cycles-cycle_start) % cycle_length) + cycle_start}\")\n",
    "                solution_array = past_rock_arrays[((target_cycles-cycle_start) % cycle_length) + cycle_start]\n",
    "                return calculate_north_load(solution_array)\n",
    "        past_rock_arrays.append(copy(rock_array))\n",
    "    total_load = calculate_north_load(rock_array)\n",
    "    return total_load"
   ]
  },
  {
   "cell_type": "code",
   "execution_count": 126,
   "metadata": {},
   "outputs": [
    {
     "name": "stdout",
     "output_type": "stream",
     "text": [
      "cycle start: index 3, cycle length: 7\n",
      "found repeat at cycle 10, target repeats from 6\n"
     ]
    },
    {
     "data": {
      "text/plain": [
       "64"
      ]
     },
     "execution_count": 126,
     "metadata": {},
     "output_type": "execute_result"
    }
   ],
   "source": [
    "solve_part2('example.txt')"
   ]
  },
  {
   "cell_type": "code",
   "execution_count": null,
   "metadata": {},
   "outputs": [],
   "source": []
  },
  {
   "cell_type": "code",
   "execution_count": null,
   "metadata": {},
   "outputs": [],
   "source": []
  }
 ],
 "metadata": {
  "kernelspec": {
   "display_name": "venv",
   "language": "python",
   "name": "python3"
  },
  "language_info": {
   "codemirror_mode": {
    "name": "ipython",
    "version": 3
   },
   "file_extension": ".py",
   "mimetype": "text/x-python",
   "name": "python",
   "nbconvert_exporter": "python",
   "pygments_lexer": "ipython3",
   "version": "3.11.3"
  }
 },
 "nbformat": 4,
 "nbformat_minor": 2
}
