{
 "cells": [
  {
   "cell_type": "code",
   "execution_count": 1,
   "metadata": {},
   "outputs": [],
   "source": [
    "import numpy as np"
   ]
  },
  {
   "cell_type": "code",
   "execution_count": 12,
   "metadata": {},
   "outputs": [],
   "source": [
    "def hash_algorithm(input_str: str) -> int:\n",
    "    current_value = 0\n",
    "    for char in input_str:\n",
    "        ascii_value = ord(char)\n",
    "        #print(f\"Ascii for {char} is {ascii_value}\")\n",
    "        current_value += ascii_value\n",
    "        current_value = current_value * 17 \n",
    "        current_value = current_value % 256\n",
    "    return current_value"
   ]
  },
  {
   "cell_type": "code",
   "execution_count": 13,
   "metadata": {},
   "outputs": [
    {
     "data": {
      "text/plain": [
       "52"
      ]
     },
     "execution_count": 13,
     "metadata": {},
     "output_type": "execute_result"
    }
   ],
   "source": [
    "hash_algorithm('HASH')"
   ]
  },
  {
   "cell_type": "code",
   "execution_count": 14,
   "metadata": {},
   "outputs": [],
   "source": [
    "def solve_part1(input_file: str) -> int:\n",
    "    with open(input_file, 'r') as f:\n",
    "        input_str = f.read()\n",
    "    initialization_parts = input_str.strip().split(',')\n",
    "    initialization_hashs = [hash_algorithm(part) for part in initialization_parts]\n",
    "    return sum(initialization_hashs)"
   ]
  },
  {
   "cell_type": "code",
   "execution_count": 34,
   "metadata": {},
   "outputs": [
    {
     "data": {
      "text/plain": [
       "1320"
      ]
     },
     "execution_count": 34,
     "metadata": {},
     "output_type": "execute_result"
    }
   ],
   "source": [
    "solve_part1('example.txt')"
   ]
  },
  {
   "cell_type": "markdown",
   "metadata": {},
   "source": [
    "## Part 2"
   ]
  },
  {
   "cell_type": "code",
   "execution_count": 25,
   "metadata": {},
   "outputs": [],
   "source": [
    "class LightBox:\n",
    "    def __init__(self, box_id: int) -> None:\n",
    "        self.box_id = box_id\n",
    "        self.lenses = []\n",
    "        self.focal_lengths = []\n",
    "\n",
    "    def add_lens(self, lens_label: str, focal_length: int) -> None:\n",
    "        if lens_label in self.lenses:\n",
    "            lens_index = self.lenses.index(lens_label)\n",
    "            self.lenses[lens_index] = lens_label\n",
    "            self.focal_lengths[lens_index] = focal_length\n",
    "        else:\n",
    "            self.lenses.append(lens_label)\n",
    "            self.focal_lengths.append(focal_length)\n",
    "    \n",
    "    def remove_lens(self, lens_label: str) -> None:\n",
    "        if lens_label in self.lenses:\n",
    "            lens_index = self.lenses.index(lens_label)\n",
    "            self.lenses.pop(lens_index)\n",
    "            self.focal_lengths.pop(lens_index)\n",
    "\n",
    "    def calculate_focal_power(self) -> int:\n",
    "        focal_power = 0\n",
    "        for lens_index, focal_length in enumerate(self.focal_lengths, start = 1):\n",
    "            focal_power += ((1 + self.box_id) * focal_length * lens_index)\n",
    "        return focal_power\n",
    "\n",
    "    def __repr__(self) -> str:\n",
    "        return_str = f\"Box {self.box_id}: \"\n",
    "        for lens, focal_length in zip(self.lenses, self.focal_lengths):\n",
    "            return_str += f\"[{lens} {focal_length}] \"\n",
    "        return return_str"
   ]
  },
  {
   "cell_type": "code",
   "execution_count": 30,
   "metadata": {},
   "outputs": [],
   "source": [
    "def solve_part2(input_file: str) -> int:\n",
    "    with open(input_file, 'r') as f:\n",
    "        input_str = f.read()\n",
    "    initialization_parts = input_str.strip().split(',')\n",
    "\n",
    "    boxes = [LightBox(i) for i in range(256)]\n",
    "    for part in initialization_parts:\n",
    "        #print(f\"After Part {part}:\")\n",
    "        if '-' in part:\n",
    "            label, _ = part.split('-')\n",
    "            box_index = hash_algorithm(label)\n",
    "            boxes[box_index].remove_lens(label)\n",
    "        if '=' in part:\n",
    "            label, focal_length = part.split('=')\n",
    "            focal_length = int(focal_length)\n",
    "            box_index = hash_algorithm(label)\n",
    "            boxes[box_index].add_lens(label, focal_length)\n",
    "        #for box in boxes:\n",
    "        #    if len(box.lenses) > 0:\n",
    "        #        print(box)\n",
    "    return sum([box.calculate_focal_power() for box in boxes])"
   ]
  },
  {
   "cell_type": "code",
   "execution_count": 33,
   "metadata": {},
   "outputs": [
    {
     "data": {
      "text/plain": [
       "145"
      ]
     },
     "execution_count": 33,
     "metadata": {},
     "output_type": "execute_result"
    }
   ],
   "source": [
    "solve_part2('example.txt')"
   ]
  },
  {
   "cell_type": "code",
   "execution_count": null,
   "metadata": {},
   "outputs": [],
   "source": []
  }
 ],
 "metadata": {
  "kernelspec": {
   "display_name": "venv",
   "language": "python",
   "name": "python3"
  },
  "language_info": {
   "codemirror_mode": {
    "name": "ipython",
    "version": 3
   },
   "file_extension": ".py",
   "mimetype": "text/x-python",
   "name": "python",
   "nbconvert_exporter": "python",
   "pygments_lexer": "ipython3",
   "version": "3.11.3"
  }
 },
 "nbformat": 4,
 "nbformat_minor": 2
}
